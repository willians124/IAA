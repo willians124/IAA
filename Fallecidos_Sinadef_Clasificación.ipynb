{
  "nbformat": 4,
  "nbformat_minor": 0,
  "metadata": {
    "colab": {
      "name": "fallecidos_IAA.ipynb",
      "provenance": []
    },
    "kernelspec": {
      "name": "python3",
      "display_name": "Python 3"
    }
  },
  "cells": [
    {
      "cell_type": "code",
      "metadata": {
        "id": "RrZtpmFq7VWO"
      },
      "source": [
        "import pandas as pd\r\n",
        "from lightgbm import LGBMClassifier\r\n",
        "from sklearn.metrics import roc_auc_score\r\n",
        "from sklearn.model_selection import KFold\r\n",
        "import re\r\n",
        "import gc\r\n",
        "import numpy as np\r\n",
        "import lightgbm as lgb\r\n",
        "from sklearn.model_selection import StratifiedKFold\r\n",
        "from sklearn.model_selection import KFold\r\n",
        "from sklearn.metrics import roc_auc_score"
      ],
      "execution_count": 33,
      "outputs": []
    },
    {
      "cell_type": "code",
      "metadata": {
        "colab": {
          "base_uri": "https://localhost:8080/"
        },
        "id": "CKnT6j66qbPp",
        "outputId": "c50dc639-ea98-4db4-c04c-9d95e0ead6fe"
      },
      "source": [
        "gc.collect()"
      ],
      "execution_count": 34,
      "outputs": [
        {
          "output_type": "execute_result",
          "data": {
            "text/plain": [
              "101"
            ]
          },
          "metadata": {
            "tags": []
          },
          "execution_count": 34
        }
      ]
    },
    {
      "cell_type": "code",
      "metadata": {
        "colab": {
          "base_uri": "https://localhost:8080/"
        },
        "id": "ANTYZFu77s61",
        "outputId": "bc1d7e9e-8ccf-4f97-e32b-840bd08de51c"
      },
      "source": [
        "fal_sin=pd.read_csv(\"/content/fallecidos_sinadef.csv\", sep=';' , encoding='latin-1',header=2).iloc[:,1:-4]"
      ],
      "execution_count": 35,
      "outputs": [
        {
          "output_type": "stream",
          "text": [
            "/usr/local/lib/python3.6/dist-packages/IPython/core/interactiveshell.py:2718: DtypeWarning: Columns (3) have mixed types.Specify dtype option on import or set low_memory=False.\n",
            "  interactivity=interactivity, compiler=compiler, result=result)\n"
          ],
          "name": "stderr"
        }
      ]
    },
    {
      "cell_type": "code",
      "metadata": {
        "colab": {
          "base_uri": "https://localhost:8080/",
          "height": 517
        },
        "id": "Dwp2dwWWAhYK",
        "outputId": "2d992ae9-7b70-4e6f-f917-f3e447921358"
      },
      "source": [
        "fal_sin.head()"
      ],
      "execution_count": 36,
      "outputs": [
        {
          "output_type": "execute_result",
          "data": {
            "text/html": [
              "<div>\n",
              "<style scoped>\n",
              "    .dataframe tbody tr th:only-of-type {\n",
              "        vertical-align: middle;\n",
              "    }\n",
              "\n",
              "    .dataframe tbody tr th {\n",
              "        vertical-align: top;\n",
              "    }\n",
              "\n",
              "    .dataframe thead th {\n",
              "        text-align: right;\n",
              "    }\n",
              "</style>\n",
              "<table border=\"1\" class=\"dataframe\">\n",
              "  <thead>\n",
              "    <tr style=\"text-align: right;\">\n",
              "      <th></th>\n",
              "      <th>TIPO SEGURO</th>\n",
              "      <th>SEXO</th>\n",
              "      <th>EDAD</th>\n",
              "      <th>TIEMPO EDAD</th>\n",
              "      <th>ESTADO CIVIL</th>\n",
              "      <th>NIVEL DE INSTRUCCIÓN</th>\n",
              "      <th>COD# UBIGEO DOMICILIO</th>\n",
              "      <th>PAIS DOMICILIO</th>\n",
              "      <th>DEPARTAMENTO DOMICILIO</th>\n",
              "      <th>PROVINCIA DOMICILIO</th>\n",
              "      <th>DISTRITO DOMICILIO</th>\n",
              "      <th>FECHA</th>\n",
              "      <th>AÑO</th>\n",
              "      <th>MES</th>\n",
              "      <th>TIPO LUGAR</th>\n",
              "      <th>INSTITUCION</th>\n",
              "      <th>MUERTE VIOLENTA</th>\n",
              "      <th>NECROPSIA</th>\n",
              "      <th>DEBIDO A (CAUSA A)</th>\n",
              "      <th>CAUSA A (CIE-X)</th>\n",
              "      <th>DEBIDO A (CAUSA B)</th>\n",
              "      <th>CAUSA B (CIE-X)</th>\n",
              "      <th>DEBIDO A (CAUSA C)</th>\n",
              "      <th>CAUSA C (CIE-X)</th>\n",
              "      <th>DEBIDO A (CAUSA D)</th>\n",
              "      <th>CAUSA D (CIE-X)</th>\n",
              "      <th>DEBIDO A (CAUSA E)</th>\n",
              "      <th>CAUSA E (CIE-X)</th>\n",
              "      <th>DEBIDO A (CAUSA F)</th>\n",
              "      <th>CAUSA F (CIE-X)</th>\n",
              "    </tr>\n",
              "  </thead>\n",
              "  <tbody>\n",
              "    <tr>\n",
              "      <th>0</th>\n",
              "      <td>SIS</td>\n",
              "      <td>MASCULINO</td>\n",
              "      <td>4</td>\n",
              "      <td>AÑOS</td>\n",
              "      <td>SOLTERO</td>\n",
              "      <td>IGNORADO</td>\n",
              "      <td>92-33-21-04-01-000</td>\n",
              "      <td>PERU</td>\n",
              "      <td>SAN MARTIN</td>\n",
              "      <td>MARISCAL CACERES</td>\n",
              "      <td>JUANJUI</td>\n",
              "      <td>2020-01-17</td>\n",
              "      <td>2020</td>\n",
              "      <td>1</td>\n",
              "      <td>EESS</td>\n",
              "      <td>GOBIERNO REGIONAL</td>\n",
              "      <td>SIN REGISTRO</td>\n",
              "      <td>NO SE REALIZÓ NECROPSIA</td>\n",
              "      <td>INSUFICIENCIA RESPIRATORIA AGUDA</td>\n",
              "      <td>J960</td>\n",
              "      <td>NEUMONIA SEVERA</td>\n",
              "      <td>J159</td>\n",
              "      <td>SIN REGISTRO</td>\n",
              "      <td>SIN REGISTRO</td>\n",
              "      <td>SIN REGISTRO</td>\n",
              "      <td>SIN REGISTRO</td>\n",
              "      <td>PARALISIS CEREBRAL INFANTIL</td>\n",
              "      <td>G809</td>\n",
              "      <td>SIN REGISTRO</td>\n",
              "      <td>SIN REGISTRO</td>\n",
              "    </tr>\n",
              "    <tr>\n",
              "      <th>1</th>\n",
              "      <td>SIS</td>\n",
              "      <td>FEMENINO</td>\n",
              "      <td>86</td>\n",
              "      <td>AÑOS</td>\n",
              "      <td>SOLTERO</td>\n",
              "      <td>PRIMARIA INCOMPLETA</td>\n",
              "      <td>92-33-21-03-13-000</td>\n",
              "      <td>PERU</td>\n",
              "      <td>SAN MARTIN</td>\n",
              "      <td>LAMAS</td>\n",
              "      <td>TABALOSOS</td>\n",
              "      <td>2020-01-03</td>\n",
              "      <td>2020</td>\n",
              "      <td>1</td>\n",
              "      <td>DOMICILIO</td>\n",
              "      <td>SIN REGISTRO</td>\n",
              "      <td>SIN REGISTRO</td>\n",
              "      <td>NO SE REALIZÓ NECROPSIA</td>\n",
              "      <td>INFARTO AGUDO DEL MIOCARDIO SIN OTRA ESPECIFIC...</td>\n",
              "      <td>I219</td>\n",
              "      <td>HIPERLIPIDEMIA NO ESPECIFICADA</td>\n",
              "      <td>E785</td>\n",
              "      <td>ATEROSCLEROSIS GENERALIZADA Y LA NO ESPECIFICADA</td>\n",
              "      <td>I709</td>\n",
              "      <td>HIPERTENSION ESENCIAL</td>\n",
              "      <td>I10X</td>\n",
              "      <td>SIN REGISTRO</td>\n",
              "      <td>SIN REGISTRO</td>\n",
              "      <td>SIN REGISTRO</td>\n",
              "      <td>SIN REGISTRO</td>\n",
              "    </tr>\n",
              "    <tr>\n",
              "      <th>2</th>\n",
              "      <td>IGNORADO</td>\n",
              "      <td>MASCULINO</td>\n",
              "      <td>38</td>\n",
              "      <td>AÑOS</td>\n",
              "      <td>IGNORADO</td>\n",
              "      <td>IGNORADO</td>\n",
              "      <td>93-32-00-00-00-000</td>\n",
              "      <td>FILIPINAS</td>\n",
              "      <td>EXTRANJERO</td>\n",
              "      <td>EXTRANJERO</td>\n",
              "      <td>EXTRANJERO</td>\n",
              "      <td>2020-01-19</td>\n",
              "      <td>2020</td>\n",
              "      <td>1</td>\n",
              "      <td>OTRO</td>\n",
              "      <td>SIN REGISTRO</td>\n",
              "      <td>SIN REGISTRO</td>\n",
              "      <td>SI SE REALIZÓ NECROPSIA</td>\n",
              "      <td>EDEMA Y CONGESTION CEREBRAL Y PULMONAR</td>\n",
              "      <td>SIN REGISTRO</td>\n",
              "      <td>SIN REGISTRO</td>\n",
              "      <td>SIN REGISTRO</td>\n",
              "      <td>SIN REGISTRO</td>\n",
              "      <td>SIN REGISTRO</td>\n",
              "      <td>SIN REGISTRO</td>\n",
              "      <td>SIN REGISTRO</td>\n",
              "      <td>SIN REGISTRO</td>\n",
              "      <td>SIN REGISTRO</td>\n",
              "      <td>SIN REGISTRO</td>\n",
              "      <td>SIN REGISTRO</td>\n",
              "    </tr>\n",
              "    <tr>\n",
              "      <th>3</th>\n",
              "      <td>USUARIO</td>\n",
              "      <td>FEMENINO</td>\n",
              "      <td>64</td>\n",
              "      <td>AÑOS</td>\n",
              "      <td>SOLTERO</td>\n",
              "      <td>PRIMARIA COMPLETA</td>\n",
              "      <td>92-33-14-01-37-000</td>\n",
              "      <td>PERU</td>\n",
              "      <td>LIMA</td>\n",
              "      <td>LIMA</td>\n",
              "      <td>SAN JUAN DE LURIGANCHO</td>\n",
              "      <td>2020-01-06</td>\n",
              "      <td>2020</td>\n",
              "      <td>1</td>\n",
              "      <td>DOMICILIO</td>\n",
              "      <td>SIN REGISTRO</td>\n",
              "      <td>SIN REGISTRO</td>\n",
              "      <td>SI SE REALIZÓ NECROPSIA</td>\n",
              "      <td>TUBERCULOSIS PULMONAR</td>\n",
              "      <td>SIN REGISTRO</td>\n",
              "      <td>SIN REGISTRO</td>\n",
              "      <td>SIN REGISTRO</td>\n",
              "      <td>SIN REGISTRO</td>\n",
              "      <td>SIN REGISTRO</td>\n",
              "      <td>SIN REGISTRO</td>\n",
              "      <td>SIN REGISTRO</td>\n",
              "      <td>SIN REGISTRO</td>\n",
              "      <td>SIN REGISTRO</td>\n",
              "      <td>SIN REGISTRO</td>\n",
              "      <td>SIN REGISTRO</td>\n",
              "    </tr>\n",
              "    <tr>\n",
              "      <th>4</th>\n",
              "      <td>IGNORADO</td>\n",
              "      <td>MASCULINO</td>\n",
              "      <td>20</td>\n",
              "      <td>AÑOS</td>\n",
              "      <td>SOLTERO</td>\n",
              "      <td>IGNORADO</td>\n",
              "      <td>92-33-24-01-02-000</td>\n",
              "      <td>PERU</td>\n",
              "      <td>CALLAO</td>\n",
              "      <td>CALLAO</td>\n",
              "      <td>BELLAVISTA</td>\n",
              "      <td>2020-01-13</td>\n",
              "      <td>2020</td>\n",
              "      <td>1</td>\n",
              "      <td>EESS</td>\n",
              "      <td>GOBIERNO REGIONAL</td>\n",
              "      <td>HOMICIDIO</td>\n",
              "      <td>SI SE REALIZÓ NECROPSIA</td>\n",
              "      <td>SHOCK HIPOVOLEMICO</td>\n",
              "      <td>SIN REGISTRO</td>\n",
              "      <td>TAPONAMIENTO CARDIACO</td>\n",
              "      <td>SIN REGISTRO</td>\n",
              "      <td>TRAUMA TORACICO ABIERTO POR PROYECTIL DE ARMA ...</td>\n",
              "      <td>SIN REGISTRO</td>\n",
              "      <td>SIN REGISTRO</td>\n",
              "      <td>SIN REGISTRO</td>\n",
              "      <td>SIN REGISTRO</td>\n",
              "      <td>SIN REGISTRO</td>\n",
              "      <td>SIN REGISTRO</td>\n",
              "      <td>SIN REGISTRO</td>\n",
              "    </tr>\n",
              "  </tbody>\n",
              "</table>\n",
              "</div>"
            ],
            "text/plain": [
              "  TIPO SEGURO       SEXO  ... DEBIDO A (CAUSA F) CAUSA F (CIE-X)\n",
              "0         SIS  MASCULINO  ...       SIN REGISTRO    SIN REGISTRO\n",
              "1         SIS   FEMENINO  ...       SIN REGISTRO    SIN REGISTRO\n",
              "2    IGNORADO  MASCULINO  ...       SIN REGISTRO    SIN REGISTRO\n",
              "3     USUARIO   FEMENINO  ...       SIN REGISTRO    SIN REGISTRO\n",
              "4    IGNORADO  MASCULINO  ...       SIN REGISTRO    SIN REGISTRO\n",
              "\n",
              "[5 rows x 30 columns]"
            ]
          },
          "metadata": {
            "tags": []
          },
          "execution_count": 36
        }
      ]
    },
    {
      "cell_type": "code",
      "metadata": {
        "colab": {
          "base_uri": "https://localhost:8080/"
        },
        "id": "Hdbvt7i58Tj1",
        "outputId": "ee1b522a-1d19-4eab-bdff-ce0c2c609cd7"
      },
      "source": [
        "fal_sin[\"TIPO SEGURO\"].value_counts(dropna=False)"
      ],
      "execution_count": 37,
      "outputs": [
        {
          "output_type": "execute_result",
          "data": {
            "text/plain": [
              "SIS              253923\n",
              "ESSALUD          156001\n",
              "IGNORADO          94457\n",
              "USUARIO            9863\n",
              "OTROS              9504\n",
              "PRIVADOS           8699\n",
              "SANIDAD PNP        8361\n",
              "SANIDAD NAVAL      1533\n",
              "SANIDAD EP         1377\n",
              "SANIDAD FAP        1363\n",
              "EXONERADO           900\n",
              "SOAT                 29\n",
              "SIN REGISTRO          1\n",
              "Name: TIPO SEGURO, dtype: int64"
            ]
          },
          "metadata": {
            "tags": []
          },
          "execution_count": 37
        }
      ]
    },
    {
      "cell_type": "code",
      "metadata": {
        "colab": {
          "base_uri": "https://localhost:8080/"
        },
        "id": "_yM8_TkNczr6",
        "outputId": "71d2ae32-6d04-45f8-af51-d59ec8ef8a3b"
      },
      "source": [
        "fal_sin[\"TIPO SEGURO\"].value_counts()"
      ],
      "execution_count": 38,
      "outputs": [
        {
          "output_type": "execute_result",
          "data": {
            "text/plain": [
              "SIS              253923\n",
              "ESSALUD          156001\n",
              "IGNORADO          94457\n",
              "USUARIO            9863\n",
              "OTROS              9504\n",
              "PRIVADOS           8699\n",
              "SANIDAD PNP        8361\n",
              "SANIDAD NAVAL      1533\n",
              "SANIDAD EP         1377\n",
              "SANIDAD FAP        1363\n",
              "EXONERADO           900\n",
              "SOAT                 29\n",
              "SIN REGISTRO          1\n",
              "Name: TIPO SEGURO, dtype: int64"
            ]
          },
          "metadata": {
            "tags": []
          },
          "execution_count": 38
        }
      ]
    },
    {
      "cell_type": "code",
      "metadata": {
        "id": "b6AUZ6Di9iZV"
      },
      "source": [
        "def  TIPO_SEGURO_FE(x):\r\n",
        "    if(x==\"SANIDAD PNP\"):\r\n",
        "      return \"SANIDAD\"\r\n",
        "    if(x==\"SANIDAD NAVAL\"):\r\n",
        "      return \"SANIDAD\"\r\n",
        "    if(x==\"SANIDAD EP\"):\r\n",
        "      return \"SANIDAD\"\r\n",
        "    if(x==\"SANIDAD FAP\"):\r\n",
        "      return \"SANIDAD\"\r\n",
        "    if(x==\"SOAT\"):\r\n",
        "      return \"PRIVADOS\"\r\n",
        "    if(x==\"SIS\"):\r\n",
        "      return \"PUBLICO\"\r\n",
        "    if(x==\"ESSALUD\"):\r\n",
        "      return \"PUBLICO\"\r\n",
        "    return \"OTROS\""
      ],
      "execution_count": 39,
      "outputs": []
    },
    {
      "cell_type": "code",
      "metadata": {
        "id": "NvoTyeRG7tBV"
      },
      "source": [
        "fal_sin[\"TIPO SEGURO_FE\"]=fal_sin[\"TIPO SEGURO\"].apply(TIPO_SEGURO_FE)"
      ],
      "execution_count": 40,
      "outputs": []
    },
    {
      "cell_type": "code",
      "metadata": {
        "colab": {
          "base_uri": "https://localhost:8080/"
        },
        "id": "8UD_Nxje7tEZ",
        "outputId": "a60e908d-8db2-4c14-a231-c79b400d14fa"
      },
      "source": [
        "fal_sin[\"TIPO SEGURO_FE\"].value_counts()"
      ],
      "execution_count": 41,
      "outputs": [
        {
          "output_type": "execute_result",
          "data": {
            "text/plain": [
              "PUBLICO     409924\n",
              "OTROS       123424\n",
              "SANIDAD      12634\n",
              "PRIVADOS        29\n",
              "Name: TIPO SEGURO_FE, dtype: int64"
            ]
          },
          "metadata": {
            "tags": []
          },
          "execution_count": 41
        }
      ]
    },
    {
      "cell_type": "code",
      "metadata": {
        "colab": {
          "base_uri": "https://localhost:8080/"
        },
        "id": "qfB4JKgE7tGk",
        "outputId": "5fc5fff4-afaa-4b54-ee56-39690a1e793d"
      },
      "source": [
        "fal_sin[\"SEXO\"].value_counts(dropna=False)"
      ],
      "execution_count": 42,
      "outputs": [
        {
          "output_type": "execute_result",
          "data": {
            "text/plain": [
              "MASCULINO        306169\n",
              "FEMENINO         239771\n",
              "INDETERMINADO        67\n",
              "SIN REGISTRO          4\n",
              "Name: SEXO, dtype: int64"
            ]
          },
          "metadata": {
            "tags": []
          },
          "execution_count": 42
        }
      ]
    },
    {
      "cell_type": "code",
      "metadata": {
        "colab": {
          "base_uri": "https://localhost:8080/"
        },
        "id": "A3hiK0zfGwxu",
        "outputId": "7b3749f2-1d0e-4567-80a8-95b9695897f9"
      },
      "source": [
        "fal_sin[\"TIEMPO EDAD\"].value_counts(dropna=False)"
      ],
      "execution_count": 43,
      "outputs": [
        {
          "output_type": "execute_result",
          "data": {
            "text/plain": [
              "AÑOS            527537\n",
              "DIAS              7541\n",
              "MESES             7047\n",
              "HORAS             2641\n",
              "MINUTOS            805\n",
              "IGNORADO           269\n",
              "SIN REGISTRO       138\n",
              "SEGUNDOS            33\n",
              "Name: TIEMPO EDAD, dtype: int64"
            ]
          },
          "metadata": {
            "tags": []
          },
          "execution_count": 43
        }
      ]
    },
    {
      "cell_type": "code",
      "metadata": {
        "colab": {
          "base_uri": "https://localhost:8080/"
        },
        "id": "9A5aGleKtrrj",
        "outputId": "bad3806a-e8a1-4c46-db73-5e47b585c8bb"
      },
      "source": [
        "fal_sin[\"TIEMPO EDAD\"].value_counts()"
      ],
      "execution_count": 44,
      "outputs": [
        {
          "output_type": "execute_result",
          "data": {
            "text/plain": [
              "AÑOS            527537\n",
              "DIAS              7541\n",
              "MESES             7047\n",
              "HORAS             2641\n",
              "MINUTOS            805\n",
              "IGNORADO           269\n",
              "SIN REGISTRO       138\n",
              "SEGUNDOS            33\n",
              "Name: TIEMPO EDAD, dtype: int64"
            ]
          },
          "metadata": {
            "tags": []
          },
          "execution_count": 44
        }
      ]
    },
    {
      "cell_type": "code",
      "metadata": {
        "id": "tuJ842l9tvm7"
      },
      "source": [
        "def TIEMPO_EDAD_FE_ANIO(x) :\r\n",
        "    if (x==\"AÑOS\"):\r\n",
        "      return 1\r\n",
        "    else:\r\n",
        "      return 0        "
      ],
      "execution_count": 45,
      "outputs": []
    },
    {
      "cell_type": "code",
      "metadata": {
        "colab": {
          "base_uri": "https://localhost:8080/"
        },
        "id": "Jq04Sy8ic_fI",
        "outputId": "47e33c24-b30c-435e-aaf1-8f0e777ede43"
      },
      "source": [
        "fal_sin.info()"
      ],
      "execution_count": 46,
      "outputs": [
        {
          "output_type": "stream",
          "text": [
            "<class 'pandas.core.frame.DataFrame'>\n",
            "RangeIndex: 546011 entries, 0 to 546010\n",
            "Data columns (total 31 columns):\n",
            " #   Column                  Non-Null Count   Dtype \n",
            "---  ------                  --------------   ----- \n",
            " 0   TIPO SEGURO             546011 non-null  object\n",
            " 1   SEXO                    546011 non-null  object\n",
            " 2   EDAD                    546011 non-null  object\n",
            " 3   TIEMPO EDAD             546011 non-null  object\n",
            " 4   ESTADO CIVIL            546011 non-null  object\n",
            " 5   NIVEL DE INSTRUCCIÓN    546011 non-null  object\n",
            " 6   COD# UBIGEO DOMICILIO   546011 non-null  object\n",
            " 7   PAIS DOMICILIO          546011 non-null  object\n",
            " 8   DEPARTAMENTO DOMICILIO  546011 non-null  object\n",
            " 9   PROVINCIA DOMICILIO     546011 non-null  object\n",
            " 10  DISTRITO DOMICILIO      546011 non-null  object\n",
            " 11  FECHA                   546011 non-null  object\n",
            " 12  AÑO                     546011 non-null  int64 \n",
            " 13  MES                     546011 non-null  int64 \n",
            " 14  TIPO LUGAR              546011 non-null  object\n",
            " 15  INSTITUCION             546011 non-null  object\n",
            " 16  MUERTE VIOLENTA         546011 non-null  object\n",
            " 17  NECROPSIA               546011 non-null  object\n",
            " 18  DEBIDO A (CAUSA A)      546011 non-null  object\n",
            " 19  CAUSA A (CIE-X)         546011 non-null  object\n",
            " 20  DEBIDO A (CAUSA B)      546011 non-null  object\n",
            " 21  CAUSA B (CIE-X)         546011 non-null  object\n",
            " 22  DEBIDO A (CAUSA C)      546011 non-null  object\n",
            " 23  CAUSA C (CIE-X)         546011 non-null  object\n",
            " 24  DEBIDO A (CAUSA D)      546011 non-null  object\n",
            " 25  CAUSA D (CIE-X)         546011 non-null  object\n",
            " 26  DEBIDO A (CAUSA E)      546011 non-null  object\n",
            " 27  CAUSA E (CIE-X)         546011 non-null  object\n",
            " 28  DEBIDO A (CAUSA F)      546011 non-null  object\n",
            " 29  CAUSA F (CIE-X)         546011 non-null  object\n",
            " 30  TIPO SEGURO_FE          546011 non-null  object\n",
            "dtypes: int64(2), object(29)\n",
            "memory usage: 129.1+ MB\n"
          ],
          "name": "stdout"
        }
      ]
    },
    {
      "cell_type": "code",
      "metadata": {
        "id": "Al9SiWn_tyQe"
      },
      "source": [
        "fal_sin[\"factor\"]=fal_sin[\"TIEMPO EDAD\"].apply(TIEMPO_EDAD_FE_ANIO)"
      ],
      "execution_count": 47,
      "outputs": []
    },
    {
      "cell_type": "code",
      "metadata": {
        "id": "pnzDOXC1tzpa"
      },
      "source": [
        "fal_sin.loc[fal_sin[\"EDAD\"]==\"SIN REGISTRO\",\"EDAD\"]=str(fal_sin.loc[fal_sin[\"EDAD\"]!=\"SIN REGISTRO\",\"EDAD\"].astype(int).mean())"
      ],
      "execution_count": 48,
      "outputs": []
    },
    {
      "cell_type": "code",
      "metadata": {
        "id": "q2QQdk1ZtzsT"
      },
      "source": [
        "fal_sin[\"EDAD\"]=fal_sin[\"EDAD\"].astype(float).astype(int)"
      ],
      "execution_count": 49,
      "outputs": []
    },
    {
      "cell_type": "code",
      "metadata": {
        "colab": {
          "base_uri": "https://localhost:8080/"
        },
        "id": "LuIPojf9tzvH",
        "outputId": "1ec8b8fb-374a-4bc8-892f-9dd3610af572"
      },
      "source": [
        "fal_sin[\"EDAD\"].describe()"
      ],
      "execution_count": 50,
      "outputs": [
        {
          "output_type": "execute_result",
          "data": {
            "text/plain": [
              "count    546011.000000\n",
              "mean         66.322334\n",
              "std          23.435579\n",
              "min           0.000000\n",
              "25%          55.000000\n",
              "50%          72.000000\n",
              "75%          83.000000\n",
              "max        3017.000000\n",
              "Name: EDAD, dtype: float64"
            ]
          },
          "metadata": {
            "tags": []
          },
          "execution_count": 50
        }
      ]
    },
    {
      "cell_type": "code",
      "metadata": {
        "id": "sgjkjf5gtzxB"
      },
      "source": [
        "fal_sin[\"TIEMPO\"]=fal_sin[\"EDAD\"]*fal_sin[\"factor\"]"
      ],
      "execution_count": 51,
      "outputs": []
    },
    {
      "cell_type": "code",
      "metadata": {
        "colab": {
          "base_uri": "https://localhost:8080/"
        },
        "id": "sfQYGwldt2NY",
        "outputId": "5cc7fea6-7cab-427f-a567-fa542e6d3f9a"
      },
      "source": [
        "fal_sin[\"TIEMPO\"]"
      ],
      "execution_count": 52,
      "outputs": [
        {
          "output_type": "execute_result",
          "data": {
            "text/plain": [
              "0          4\n",
              "1         86\n",
              "2         38\n",
              "3         64\n",
              "4         20\n",
              "          ..\n",
              "546006    82\n",
              "546007    72\n",
              "546008    86\n",
              "546009    89\n",
              "546010     0\n",
              "Name: TIEMPO, Length: 546011, dtype: int64"
            ]
          },
          "metadata": {
            "tags": []
          },
          "execution_count": 52
        }
      ]
    },
    {
      "cell_type": "code",
      "metadata": {
        "id": "envvjUDSt2RG"
      },
      "source": [
        "fal_sin.loc[(fal_sin[\"DEBIDO A (CAUSA A)\"].str.contains(\"covid\", case=False)) |\r\n",
        "        (fal_sin[\"DEBIDO A (CAUSA B)\"].str.contains(\"covid\", case=False)) |\r\n",
        "        (fal_sin[\"DEBIDO A (CAUSA C)\"].str.contains(\"covid\", case=False)) |\r\n",
        "        (fal_sin[\"DEBIDO A (CAUSA D)\"].str.contains(\"covid\", case=False)) |\r\n",
        "        (fal_sin[\"DEBIDO A (CAUSA E)\"].str.contains(\"covid\", case=False)) |\r\n",
        "        (fal_sin[\"DEBIDO A (CAUSA F)\"].str.contains(\"covid\", case=False)) ,\"Target\"]=1\r\n",
        "                "
      ],
      "execution_count": 53,
      "outputs": []
    },
    {
      "cell_type": "code",
      "metadata": {
        "id": "LDCYLBydt2S-"
      },
      "source": [
        "fal_sin[\"Target\"]=fal_sin[\"Target\"].fillna(0)"
      ],
      "execution_count": 54,
      "outputs": []
    },
    {
      "cell_type": "code",
      "metadata": {
        "colab": {
          "base_uri": "https://localhost:8080/"
        },
        "id": "c0-LOFg7t2U4",
        "outputId": "24407aa6-0d23-4c56-8d4e-2abeed8c8a35"
      },
      "source": [
        "fal_sin[\"Target\"]"
      ],
      "execution_count": 55,
      "outputs": [
        {
          "output_type": "execute_result",
          "data": {
            "text/plain": [
              "0         0.0\n",
              "1         0.0\n",
              "2         0.0\n",
              "3         0.0\n",
              "4         0.0\n",
              "         ... \n",
              "546006    1.0\n",
              "546007    1.0\n",
              "546008    0.0\n",
              "546009    0.0\n",
              "546010    0.0\n",
              "Name: Target, Length: 546011, dtype: float64"
            ]
          },
          "metadata": {
            "tags": []
          },
          "execution_count": 55
        }
      ]
    },
    {
      "cell_type": "code",
      "metadata": {
        "colab": {
          "base_uri": "https://localhost:8080/"
        },
        "id": "-od0zSGjdC4e",
        "outputId": "6e67bb35-c978-45b5-9eee-f56434b569c9"
      },
      "source": [
        "fal_sin.columns"
      ],
      "execution_count": 56,
      "outputs": [
        {
          "output_type": "execute_result",
          "data": {
            "text/plain": [
              "Index(['TIPO SEGURO', 'SEXO', 'EDAD', 'TIEMPO EDAD', 'ESTADO CIVIL',\n",
              "       'NIVEL DE INSTRUCCIÓN', 'COD# UBIGEO DOMICILIO', 'PAIS DOMICILIO',\n",
              "       'DEPARTAMENTO DOMICILIO', 'PROVINCIA DOMICILIO', 'DISTRITO DOMICILIO',\n",
              "       'FECHA', 'AÑO', 'MES', 'TIPO LUGAR', 'INSTITUCION', 'MUERTE VIOLENTA',\n",
              "       'NECROPSIA', 'DEBIDO A (CAUSA A)', 'CAUSA A (CIE-X)',\n",
              "       'DEBIDO A (CAUSA B)', 'CAUSA B (CIE-X)', 'DEBIDO A (CAUSA C)',\n",
              "       'CAUSA C (CIE-X)', 'DEBIDO A (CAUSA D)', 'CAUSA D (CIE-X)',\n",
              "       'DEBIDO A (CAUSA E)', 'CAUSA E (CIE-X)', 'DEBIDO A (CAUSA F)',\n",
              "       'CAUSA F (CIE-X)', 'TIPO SEGURO_FE', 'factor', 'TIEMPO', 'Target'],\n",
              "      dtype='object')"
            ]
          },
          "metadata": {
            "tags": []
          },
          "execution_count": 56
        }
      ]
    },
    {
      "cell_type": "code",
      "metadata": {
        "colab": {
          "base_uri": "https://localhost:8080/"
        },
        "id": "zUNFhpemdC-9",
        "outputId": "e599520e-e00c-4748-e8d6-3505c78cfc91"
      },
      "source": [
        "fal_sin.info()"
      ],
      "execution_count": 57,
      "outputs": [
        {
          "output_type": "stream",
          "text": [
            "<class 'pandas.core.frame.DataFrame'>\n",
            "RangeIndex: 546011 entries, 0 to 546010\n",
            "Data columns (total 34 columns):\n",
            " #   Column                  Non-Null Count   Dtype  \n",
            "---  ------                  --------------   -----  \n",
            " 0   TIPO SEGURO             546011 non-null  object \n",
            " 1   SEXO                    546011 non-null  object \n",
            " 2   EDAD                    546011 non-null  int64  \n",
            " 3   TIEMPO EDAD             546011 non-null  object \n",
            " 4   ESTADO CIVIL            546011 non-null  object \n",
            " 5   NIVEL DE INSTRUCCIÓN    546011 non-null  object \n",
            " 6   COD# UBIGEO DOMICILIO   546011 non-null  object \n",
            " 7   PAIS DOMICILIO          546011 non-null  object \n",
            " 8   DEPARTAMENTO DOMICILIO  546011 non-null  object \n",
            " 9   PROVINCIA DOMICILIO     546011 non-null  object \n",
            " 10  DISTRITO DOMICILIO      546011 non-null  object \n",
            " 11  FECHA                   546011 non-null  object \n",
            " 12  AÑO                     546011 non-null  int64  \n",
            " 13  MES                     546011 non-null  int64  \n",
            " 14  TIPO LUGAR              546011 non-null  object \n",
            " 15  INSTITUCION             546011 non-null  object \n",
            " 16  MUERTE VIOLENTA         546011 non-null  object \n",
            " 17  NECROPSIA               546011 non-null  object \n",
            " 18  DEBIDO A (CAUSA A)      546011 non-null  object \n",
            " 19  CAUSA A (CIE-X)         546011 non-null  object \n",
            " 20  DEBIDO A (CAUSA B)      546011 non-null  object \n",
            " 21  CAUSA B (CIE-X)         546011 non-null  object \n",
            " 22  DEBIDO A (CAUSA C)      546011 non-null  object \n",
            " 23  CAUSA C (CIE-X)         546011 non-null  object \n",
            " 24  DEBIDO A (CAUSA D)      546011 non-null  object \n",
            " 25  CAUSA D (CIE-X)         546011 non-null  object \n",
            " 26  DEBIDO A (CAUSA E)      546011 non-null  object \n",
            " 27  CAUSA E (CIE-X)         546011 non-null  object \n",
            " 28  DEBIDO A (CAUSA F)      546011 non-null  object \n",
            " 29  CAUSA F (CIE-X)         546011 non-null  object \n",
            " 30  TIPO SEGURO_FE          546011 non-null  object \n",
            " 31  factor                  546011 non-null  int64  \n",
            " 32  TIEMPO                  546011 non-null  int64  \n",
            " 33  Target                  546011 non-null  float64\n",
            "dtypes: float64(1), int64(5), object(28)\n",
            "memory usage: 141.6+ MB\n"
          ],
          "name": "stdout"
        }
      ]
    },
    {
      "cell_type": "code",
      "metadata": {
        "id": "y90TBsa1dDIh"
      },
      "source": [
        "data_weka=fal_sin[['TIPO SEGURO', \r\n",
        "'SEXO', \r\n",
        "'ESTADO CIVIL',\r\n",
        "'NIVEL DE INSTRUCCIÓN', \r\n",
        "'TIPO SEGURO_FE', \r\n",
        "'TIEMPO',\r\n",
        "'PAIS DOMICILIO',\r\n",
        "'DEPARTAMENTO DOMICILIO', \r\n",
        "'PROVINCIA DOMICILIO', \r\n",
        "'DISTRITO DOMICILIO',\r\n",
        "'AÑO', \r\n",
        "'MES', \r\n",
        "'TIPO LUGAR', \r\n",
        "'INSTITUCION', \r\n",
        "'MUERTE VIOLENTA',\r\n",
        "'NECROPSIA', \r\n",
        "'Target']]"
      ],
      "execution_count": 58,
      "outputs": []
    },
    {
      "cell_type": "code",
      "metadata": {
        "colab": {
          "base_uri": "https://localhost:8080/"
        },
        "id": "5OuSZkdedDKW",
        "outputId": "413105dd-9bee-4985-887a-402a5c40e292"
      },
      "source": [
        "data_weka.isnull().sum()"
      ],
      "execution_count": 59,
      "outputs": [
        {
          "output_type": "execute_result",
          "data": {
            "text/plain": [
              "TIPO SEGURO               0\n",
              "SEXO                      0\n",
              "ESTADO CIVIL              0\n",
              "NIVEL DE INSTRUCCIÓN      0\n",
              "TIPO SEGURO_FE            0\n",
              "TIEMPO                    0\n",
              "PAIS DOMICILIO            0\n",
              "DEPARTAMENTO DOMICILIO    0\n",
              "PROVINCIA DOMICILIO       0\n",
              "DISTRITO DOMICILIO        0\n",
              "AÑO                       0\n",
              "MES                       0\n",
              "TIPO LUGAR                0\n",
              "INSTITUCION               0\n",
              "MUERTE VIOLENTA           0\n",
              "NECROPSIA                 0\n",
              "Target                    0\n",
              "dtype: int64"
            ]
          },
          "metadata": {
            "tags": []
          },
          "execution_count": 59
        }
      ]
    },
    {
      "cell_type": "code",
      "metadata": {
        "colab": {
          "base_uri": "https://localhost:8080/"
        },
        "id": "MiTvX3qJdDMT",
        "outputId": "0f3c480e-544f-4e72-c929-9c08ccef099f"
      },
      "source": [
        "data_weka.columns"
      ],
      "execution_count": 60,
      "outputs": [
        {
          "output_type": "execute_result",
          "data": {
            "text/plain": [
              "Index(['TIPO SEGURO', 'SEXO', 'ESTADO CIVIL', 'NIVEL DE INSTRUCCIÓN',\n",
              "       'TIPO SEGURO_FE', 'TIEMPO', 'PAIS DOMICILIO', 'DEPARTAMENTO DOMICILIO',\n",
              "       'PROVINCIA DOMICILIO', 'DISTRITO DOMICILIO', 'AÑO', 'MES', 'TIPO LUGAR',\n",
              "       'INSTITUCION', 'MUERTE VIOLENTA', 'NECROPSIA', 'Target'],\n",
              "      dtype='object')"
            ]
          },
          "metadata": {
            "tags": []
          },
          "execution_count": 60
        }
      ]
    },
    {
      "cell_type": "code",
      "metadata": {
        "colab": {
          "base_uri": "https://localhost:8080/"
        },
        "id": "E_dwtb3vuJMs",
        "outputId": "71a05c9b-202f-489d-f046-e1eb16c66336"
      },
      "source": [
        "data_weka[\"Target\"].value_counts(dropna=False)"
      ],
      "execution_count": 61,
      "outputs": [
        {
          "output_type": "execute_result",
          "data": {
            "text/plain": [
              "0.0    478374\n",
              "1.0     67637\n",
              "Name: Target, dtype: int64"
            ]
          },
          "metadata": {
            "tags": []
          },
          "execution_count": 61
        }
      ]
    },
    {
      "cell_type": "code",
      "metadata": {
        "colab": {
          "base_uri": "https://localhost:8080/"
        },
        "id": "PDDrycLouHZ8",
        "outputId": "7db4aca2-c9d3-45a8-dcdf-04a259f2fbfd"
      },
      "source": [
        "data_weka[\"Target\"]=data_weka[\"Target\"].astype(int)"
      ],
      "execution_count": 62,
      "outputs": [
        {
          "output_type": "stream",
          "text": [
            "/usr/local/lib/python3.6/dist-packages/ipykernel_launcher.py:1: SettingWithCopyWarning: \n",
            "A value is trying to be set on a copy of a slice from a DataFrame.\n",
            "Try using .loc[row_indexer,col_indexer] = value instead\n",
            "\n",
            "See the caveats in the documentation: https://pandas.pydata.org/pandas-docs/stable/user_guide/indexing.html#returning-a-view-versus-a-copy\n",
            "  \"\"\"Entry point for launching an IPython kernel.\n"
          ],
          "name": "stderr"
        }
      ]
    },
    {
      "cell_type": "code",
      "metadata": {
        "colab": {
          "base_uri": "https://localhost:8080/"
        },
        "id": "2oyoepK9rkGE",
        "outputId": "da1b942a-369a-4812-f281-adad832cf060"
      },
      "source": [
        "from sklearn.preprocessing import LabelEncoder\r\n",
        "labelencoder = LabelEncoder()\r\n",
        "for i in ['TIPO SEGURO', 'SEXO', 'ESTADO CIVIL','NIVEL DE INSTRUCCIÓN',  'PAIS DOMICILIO','DEPARTAMENTO DOMICILIO', 'PROVINCIA DOMICILIO', 'DISTRITO DOMICILIO','TIPO LUGAR', 'INSTITUCION', 'MUERTE VIOLENTA','NECROPSIA', 'TIPO SEGURO_FE']:\r\n",
        "  data_weka[i] = labelencoder.fit_transform(data_weka[i])\r\n"
      ],
      "execution_count": 63,
      "outputs": [
        {
          "output_type": "stream",
          "text": [
            "/usr/local/lib/python3.6/dist-packages/ipykernel_launcher.py:4: SettingWithCopyWarning: \n",
            "A value is trying to be set on a copy of a slice from a DataFrame.\n",
            "Try using .loc[row_indexer,col_indexer] = value instead\n",
            "\n",
            "See the caveats in the documentation: https://pandas.pydata.org/pandas-docs/stable/user_guide/indexing.html#returning-a-view-versus-a-copy\n",
            "  after removing the cwd from sys.path.\n"
          ],
          "name": "stderr"
        }
      ]
    },
    {
      "cell_type": "code",
      "metadata": {
        "id": "lc_BmsuHoR7V"
      },
      "source": [
        "train_full=data_weka.copy()"
      ],
      "execution_count": 64,
      "outputs": []
    },
    {
      "cell_type": "code",
      "metadata": {
        "id": "dWg1DEY5oNMX"
      },
      "source": [
        "features=[ x for x in train_full.columns if x not in ['Target']]"
      ],
      "execution_count": 65,
      "outputs": []
    },
    {
      "cell_type": "code",
      "metadata": {
        "id": "eN5jHGaonyUD"
      },
      "source": [
        "target=\"Target\""
      ],
      "execution_count": 66,
      "outputs": []
    },
    {
      "cell_type": "code",
      "metadata": {
        "colab": {
          "base_uri": "https://localhost:8080/"
        },
        "id": "gwG9JKDGob-f",
        "outputId": "9f75cefd-9473-41e6-ecfc-77e4b4defcc0"
      },
      "source": [
        "train_full.columns"
      ],
      "execution_count": 67,
      "outputs": [
        {
          "output_type": "execute_result",
          "data": {
            "text/plain": [
              "Index(['TIPO SEGURO', 'SEXO', 'ESTADO CIVIL', 'NIVEL DE INSTRUCCIÓN',\n",
              "       'TIPO SEGURO_FE', 'TIEMPO', 'PAIS DOMICILIO', 'DEPARTAMENTO DOMICILIO',\n",
              "       'PROVINCIA DOMICILIO', 'DISTRITO DOMICILIO', 'AÑO', 'MES', 'TIPO LUGAR',\n",
              "       'INSTITUCION', 'MUERTE VIOLENTA', 'NECROPSIA', 'Target'],\n",
              "      dtype='object')"
            ]
          },
          "metadata": {
            "tags": []
          },
          "execution_count": 67
        }
      ]
    },
    {
      "cell_type": "code",
      "metadata": {
        "colab": {
          "base_uri": "https://localhost:8080/"
        },
        "id": "fkEvNv5MqYap",
        "outputId": "42cfba14-dfe0-48f2-a294-1e4f38c41805"
      },
      "source": [
        "gc.collect()"
      ],
      "execution_count": 69,
      "outputs": [
        {
          "output_type": "execute_result",
          "data": {
            "text/plain": [
              "188"
            ]
          },
          "metadata": {
            "tags": []
          },
          "execution_count": 69
        }
      ]
    },
    {
      "cell_type": "code",
      "metadata": {
        "colab": {
          "base_uri": "https://localhost:8080/"
        },
        "id": "u5naQAoGdDQW",
        "outputId": "d4e70cb3-9ac3-4153-fd84-3a3961346cb3"
      },
      "source": [
        "kf_previo=StratifiedKFold(n_splits=5,random_state=256,shuffle=True)\r\n",
        "\r\n",
        "i=1\r\n",
        "\r\n",
        "r=[]\r\n",
        "\r\n",
        "test_probs = []\r\n",
        "\r\n",
        "importancias=pd.DataFrame()\r\n",
        "\r\n",
        "importancias['variable']=features\r\n",
        "\r\n",
        "for train_index,test_index in kf_previo.split(train_full,train_full[target]):\r\n",
        "\r\n",
        "    lgb_train = lgb.Dataset(train_full.loc[train_index,features].values,train_full.loc[train_index,target].values.ravel())\r\n",
        "    lgb_eval = lgb.Dataset(train_full.loc[test_index,features].values,train_full.loc[test_index,target].values.ravel(), reference=lgb_train)\r\n",
        "\r\n",
        "    params = {\r\n",
        "        'task': 'train',\r\n",
        "        'boosting_type': 'gbdt',\r\n",
        "        'objective': 'binary',\r\n",
        "        'metric': { 'auc'},\r\n",
        "        \"max_depth\":4,\r\n",
        "        \"num_leaves\":10,\r\n",
        "        'learning_rate': 0.1,\r\n",
        "    \"min_child_samples\": 100,\r\n",
        "        'feature_fraction': 0.5,\r\n",
        "     \"bagging_freq\":1,\r\n",
        "        'bagging_fraction': 0.9,\r\n",
        "        \"lambda_l1\":1,\r\n",
        "        \"lambda_l2\":1,\r\n",
        "        #\"scale_pos_weight\":24,\r\n",
        "\r\n",
        "        'verbose': 1    \r\n",
        "    }\r\n",
        "\r\n",
        "\r\n",
        "\r\n",
        "\r\n",
        "    lgbm3 = lgb.train(params,lgb_train,num_boost_round=13100,valid_sets=lgb_eval,early_stopping_rounds=50,verbose_eval=25)#,categorical_feature=cat_ind)\r\n",
        "    \r\n",
        "    #test[\"TARGET_FOLD\"+str(i)]=\r\n",
        "    \r\n",
        "    #test_probs.append(pd.Series(lgbm3.predict(test[features].values, num_iteration=lgbm3.best_iteration)))\r\n",
        "    \r\n",
        "    \r\n",
        "    importancias['gain_'+str(i)]=lgbm3.feature_importance(importance_type=\"gain\")\r\n",
        "\r\n",
        "    \r\n",
        "    print (\"Fold_\"+str(i))\r\n",
        "    a= (roc_auc_score(train_full.loc[test_index,target],lgbm3.predict(train_full.loc[test_index,features].values, num_iteration=lgbm3.best_iteration)))\r\n",
        "    r.append(a)\r\n",
        "    print (a)\r\n",
        "    print (\"\")\r\n",
        "    \r\n",
        "    i=i+1\r\n",
        "\r\n",
        "print (\"mean: \"+str(np.mean(np.array(r))))\r\n",
        "print (\"std: \"+str(np.std(np.array(r))))\r\n",
        "#test_probs = pd.concat(test_probs, axis=1).mean(axis=1)"
      ],
      "execution_count": 70,
      "outputs": [
        {
          "output_type": "stream",
          "text": [
            "Training until validation scores don't improve for 50 rounds.\n",
            "[25]\tvalid_0's auc: 0.953386\n",
            "[50]\tvalid_0's auc: 0.9565\n",
            "[75]\tvalid_0's auc: 0.957734\n",
            "[100]\tvalid_0's auc: 0.958499\n",
            "[125]\tvalid_0's auc: 0.959017\n",
            "[150]\tvalid_0's auc: 0.959456\n",
            "[175]\tvalid_0's auc: 0.959816\n",
            "[200]\tvalid_0's auc: 0.960153\n",
            "[225]\tvalid_0's auc: 0.960564\n",
            "[250]\tvalid_0's auc: 0.960721\n",
            "[275]\tvalid_0's auc: 0.961006\n",
            "[300]\tvalid_0's auc: 0.961191\n",
            "[325]\tvalid_0's auc: 0.961403\n",
            "[350]\tvalid_0's auc: 0.961598\n",
            "[375]\tvalid_0's auc: 0.96174\n",
            "[400]\tvalid_0's auc: 0.961802\n",
            "[425]\tvalid_0's auc: 0.961958\n",
            "[450]\tvalid_0's auc: 0.962085\n",
            "[475]\tvalid_0's auc: 0.962208\n",
            "[500]\tvalid_0's auc: 0.9623\n",
            "[525]\tvalid_0's auc: 0.962411\n",
            "[550]\tvalid_0's auc: 0.962536\n",
            "[575]\tvalid_0's auc: 0.962628\n",
            "[600]\tvalid_0's auc: 0.962686\n",
            "[625]\tvalid_0's auc: 0.962769\n",
            "[650]\tvalid_0's auc: 0.962822\n",
            "[675]\tvalid_0's auc: 0.962894\n",
            "[700]\tvalid_0's auc: 0.962948\n",
            "[725]\tvalid_0's auc: 0.962997\n",
            "[750]\tvalid_0's auc: 0.963052\n",
            "[775]\tvalid_0's auc: 0.963093\n",
            "[800]\tvalid_0's auc: 0.963116\n",
            "[825]\tvalid_0's auc: 0.963167\n",
            "[850]\tvalid_0's auc: 0.963219\n",
            "[875]\tvalid_0's auc: 0.96325\n",
            "[900]\tvalid_0's auc: 0.963267\n",
            "[925]\tvalid_0's auc: 0.963305\n",
            "[950]\tvalid_0's auc: 0.96334\n",
            "[975]\tvalid_0's auc: 0.963397\n",
            "[1000]\tvalid_0's auc: 0.963438\n",
            "[1025]\tvalid_0's auc: 0.963475\n",
            "[1050]\tvalid_0's auc: 0.963485\n",
            "[1075]\tvalid_0's auc: 0.963509\n",
            "[1100]\tvalid_0's auc: 0.963541\n",
            "[1125]\tvalid_0's auc: 0.963548\n",
            "[1150]\tvalid_0's auc: 0.963562\n",
            "[1175]\tvalid_0's auc: 0.96359\n",
            "[1200]\tvalid_0's auc: 0.963603\n",
            "[1225]\tvalid_0's auc: 0.963632\n",
            "[1250]\tvalid_0's auc: 0.963651\n",
            "[1275]\tvalid_0's auc: 0.963658\n",
            "[1300]\tvalid_0's auc: 0.96367\n",
            "[1325]\tvalid_0's auc: 0.963688\n",
            "[1350]\tvalid_0's auc: 0.963694\n",
            "[1375]\tvalid_0's auc: 0.963712\n",
            "[1400]\tvalid_0's auc: 0.963731\n",
            "[1425]\tvalid_0's auc: 0.963743\n",
            "[1450]\tvalid_0's auc: 0.963766\n",
            "[1475]\tvalid_0's auc: 0.963784\n",
            "[1500]\tvalid_0's auc: 0.963808\n",
            "[1525]\tvalid_0's auc: 0.963817\n",
            "[1550]\tvalid_0's auc: 0.963824\n",
            "[1575]\tvalid_0's auc: 0.963826\n",
            "[1600]\tvalid_0's auc: 0.96384\n",
            "[1625]\tvalid_0's auc: 0.963848\n",
            "[1650]\tvalid_0's auc: 0.963869\n",
            "[1675]\tvalid_0's auc: 0.963868\n",
            "[1700]\tvalid_0's auc: 0.96387\n",
            "Early stopping, best iteration is:\n",
            "[1661]\tvalid_0's auc: 0.963874\n",
            "Fold_1\n",
            "0.9638741994268061\n",
            "\n",
            "Training until validation scores don't improve for 50 rounds.\n",
            "[25]\tvalid_0's auc: 0.954258\n",
            "[50]\tvalid_0's auc: 0.957452\n",
            "[75]\tvalid_0's auc: 0.958698\n",
            "[100]\tvalid_0's auc: 0.95942\n",
            "[125]\tvalid_0's auc: 0.959994\n",
            "[150]\tvalid_0's auc: 0.960516\n",
            "[175]\tvalid_0's auc: 0.961029\n",
            "[200]\tvalid_0's auc: 0.961283\n",
            "[225]\tvalid_0's auc: 0.961632\n",
            "[250]\tvalid_0's auc: 0.961925\n",
            "[275]\tvalid_0's auc: 0.962216\n",
            "[300]\tvalid_0's auc: 0.962415\n",
            "[325]\tvalid_0's auc: 0.962606\n",
            "[350]\tvalid_0's auc: 0.962778\n",
            "[375]\tvalid_0's auc: 0.962898\n",
            "[400]\tvalid_0's auc: 0.963032\n",
            "[425]\tvalid_0's auc: 0.963229\n",
            "[450]\tvalid_0's auc: 0.963341\n",
            "[475]\tvalid_0's auc: 0.96344\n",
            "[500]\tvalid_0's auc: 0.963552\n",
            "[525]\tvalid_0's auc: 0.963629\n",
            "[550]\tvalid_0's auc: 0.963692\n",
            "[575]\tvalid_0's auc: 0.963756\n",
            "[600]\tvalid_0's auc: 0.963823\n",
            "[625]\tvalid_0's auc: 0.963895\n",
            "[650]\tvalid_0's auc: 0.963957\n",
            "[675]\tvalid_0's auc: 0.96404\n",
            "[700]\tvalid_0's auc: 0.964091\n",
            "[725]\tvalid_0's auc: 0.964145\n",
            "[750]\tvalid_0's auc: 0.96418\n",
            "[775]\tvalid_0's auc: 0.96422\n",
            "[800]\tvalid_0's auc: 0.964241\n",
            "[825]\tvalid_0's auc: 0.964292\n",
            "[850]\tvalid_0's auc: 0.964315\n",
            "[875]\tvalid_0's auc: 0.964354\n",
            "[900]\tvalid_0's auc: 0.964385\n",
            "[925]\tvalid_0's auc: 0.964426\n",
            "[950]\tvalid_0's auc: 0.964465\n",
            "[975]\tvalid_0's auc: 0.964502\n",
            "[1000]\tvalid_0's auc: 0.964535\n",
            "[1025]\tvalid_0's auc: 0.964552\n",
            "[1050]\tvalid_0's auc: 0.964567\n",
            "[1075]\tvalid_0's auc: 0.964594\n",
            "[1100]\tvalid_0's auc: 0.964605\n",
            "[1125]\tvalid_0's auc: 0.964631\n",
            "[1150]\tvalid_0's auc: 0.964651\n",
            "[1175]\tvalid_0's auc: 0.964675\n",
            "[1200]\tvalid_0's auc: 0.964707\n",
            "[1225]\tvalid_0's auc: 0.964732\n",
            "[1250]\tvalid_0's auc: 0.964745\n",
            "[1275]\tvalid_0's auc: 0.964764\n",
            "[1300]\tvalid_0's auc: 0.964772\n",
            "[1325]\tvalid_0's auc: 0.964788\n",
            "[1350]\tvalid_0's auc: 0.964811\n",
            "[1375]\tvalid_0's auc: 0.964827\n",
            "[1400]\tvalid_0's auc: 0.964842\n",
            "[1425]\tvalid_0's auc: 0.964849\n",
            "[1450]\tvalid_0's auc: 0.964854\n",
            "[1475]\tvalid_0's auc: 0.964863\n",
            "[1500]\tvalid_0's auc: 0.964864\n",
            "[1525]\tvalid_0's auc: 0.964891\n",
            "[1550]\tvalid_0's auc: 0.964908\n",
            "[1575]\tvalid_0's auc: 0.964927\n",
            "[1600]\tvalid_0's auc: 0.964932\n",
            "[1625]\tvalid_0's auc: 0.964943\n",
            "[1650]\tvalid_0's auc: 0.964959\n",
            "[1675]\tvalid_0's auc: 0.964971\n",
            "[1700]\tvalid_0's auc: 0.964984\n",
            "[1725]\tvalid_0's auc: 0.96499\n",
            "[1750]\tvalid_0's auc: 0.965013\n",
            "[1775]\tvalid_0's auc: 0.965022\n",
            "[1800]\tvalid_0's auc: 0.965038\n",
            "[1825]\tvalid_0's auc: 0.965044\n",
            "[1850]\tvalid_0's auc: 0.965049\n",
            "[1875]\tvalid_0's auc: 0.96505\n",
            "[1900]\tvalid_0's auc: 0.96507\n",
            "[1925]\tvalid_0's auc: 0.965072\n",
            "[1950]\tvalid_0's auc: 0.965065\n",
            "Early stopping, best iteration is:\n",
            "[1914]\tvalid_0's auc: 0.965073\n",
            "Fold_2\n",
            "0.9650730935616403\n",
            "\n",
            "Training until validation scores don't improve for 50 rounds.\n",
            "[25]\tvalid_0's auc: 0.954014\n",
            "[50]\tvalid_0's auc: 0.95699\n",
            "[75]\tvalid_0's auc: 0.958212\n",
            "[100]\tvalid_0's auc: 0.959056\n",
            "[125]\tvalid_0's auc: 0.959554\n",
            "[150]\tvalid_0's auc: 0.959986\n",
            "[175]\tvalid_0's auc: 0.960439\n",
            "[200]\tvalid_0's auc: 0.960794\n",
            "[225]\tvalid_0's auc: 0.961111\n",
            "[250]\tvalid_0's auc: 0.961419\n",
            "[275]\tvalid_0's auc: 0.961644\n",
            "[300]\tvalid_0's auc: 0.961785\n",
            "[325]\tvalid_0's auc: 0.962036\n",
            "[350]\tvalid_0's auc: 0.962179\n",
            "[375]\tvalid_0's auc: 0.962339\n",
            "[400]\tvalid_0's auc: 0.962419\n",
            "[425]\tvalid_0's auc: 0.962506\n",
            "[450]\tvalid_0's auc: 0.962662\n",
            "[475]\tvalid_0's auc: 0.962822\n",
            "[500]\tvalid_0's auc: 0.962924\n",
            "[525]\tvalid_0's auc: 0.962983\n",
            "[550]\tvalid_0's auc: 0.963057\n",
            "[575]\tvalid_0's auc: 0.963126\n",
            "[600]\tvalid_0's auc: 0.963194\n",
            "[625]\tvalid_0's auc: 0.963264\n",
            "[650]\tvalid_0's auc: 0.963319\n",
            "[675]\tvalid_0's auc: 0.963384\n",
            "[700]\tvalid_0's auc: 0.963422\n",
            "[725]\tvalid_0's auc: 0.963506\n",
            "[750]\tvalid_0's auc: 0.963557\n",
            "[775]\tvalid_0's auc: 0.963597\n",
            "[800]\tvalid_0's auc: 0.963642\n",
            "[825]\tvalid_0's auc: 0.963673\n",
            "[850]\tvalid_0's auc: 0.963723\n",
            "[875]\tvalid_0's auc: 0.96374\n",
            "[900]\tvalid_0's auc: 0.963777\n",
            "[925]\tvalid_0's auc: 0.963814\n",
            "[950]\tvalid_0's auc: 0.963853\n",
            "[975]\tvalid_0's auc: 0.963895\n",
            "[1000]\tvalid_0's auc: 0.963918\n",
            "[1025]\tvalid_0's auc: 0.963951\n",
            "[1050]\tvalid_0's auc: 0.963971\n",
            "[1075]\tvalid_0's auc: 0.963986\n",
            "[1100]\tvalid_0's auc: 0.964004\n",
            "[1125]\tvalid_0's auc: 0.964042\n",
            "[1150]\tvalid_0's auc: 0.964052\n",
            "[1175]\tvalid_0's auc: 0.964063\n",
            "[1200]\tvalid_0's auc: 0.964079\n",
            "[1225]\tvalid_0's auc: 0.964093\n",
            "[1250]\tvalid_0's auc: 0.964116\n",
            "[1275]\tvalid_0's auc: 0.964144\n",
            "[1300]\tvalid_0's auc: 0.964159\n",
            "[1325]\tvalid_0's auc: 0.964167\n",
            "[1350]\tvalid_0's auc: 0.964181\n",
            "[1375]\tvalid_0's auc: 0.964198\n",
            "[1400]\tvalid_0's auc: 0.96421\n",
            "[1425]\tvalid_0's auc: 0.964227\n",
            "[1450]\tvalid_0's auc: 0.964242\n",
            "[1475]\tvalid_0's auc: 0.96425\n",
            "[1500]\tvalid_0's auc: 0.964266\n",
            "[1525]\tvalid_0's auc: 0.964274\n",
            "[1550]\tvalid_0's auc: 0.96428\n",
            "[1575]\tvalid_0's auc: 0.964287\n",
            "[1600]\tvalid_0's auc: 0.964294\n",
            "[1625]\tvalid_0's auc: 0.96431\n",
            "[1650]\tvalid_0's auc: 0.964323\n",
            "[1675]\tvalid_0's auc: 0.964331\n",
            "[1700]\tvalid_0's auc: 0.964335\n",
            "[1725]\tvalid_0's auc: 0.964337\n",
            "[1750]\tvalid_0's auc: 0.964353\n",
            "[1775]\tvalid_0's auc: 0.964372\n",
            "[1800]\tvalid_0's auc: 0.964384\n",
            "[1825]\tvalid_0's auc: 0.964385\n",
            "[1850]\tvalid_0's auc: 0.964393\n",
            "[1875]\tvalid_0's auc: 0.964409\n",
            "[1900]\tvalid_0's auc: 0.964414\n",
            "[1925]\tvalid_0's auc: 0.964427\n",
            "[1950]\tvalid_0's auc: 0.964432\n",
            "[1975]\tvalid_0's auc: 0.964433\n",
            "[2000]\tvalid_0's auc: 0.964443\n",
            "[2025]\tvalid_0's auc: 0.964454\n",
            "[2050]\tvalid_0's auc: 0.964453\n",
            "[2075]\tvalid_0's auc: 0.964454\n",
            "[2100]\tvalid_0's auc: 0.964458\n",
            "[2125]\tvalid_0's auc: 0.964467\n",
            "[2150]\tvalid_0's auc: 0.96447\n",
            "[2175]\tvalid_0's auc: 0.964476\n",
            "[2200]\tvalid_0's auc: 0.964471\n",
            "[2225]\tvalid_0's auc: 0.964489\n",
            "[2250]\tvalid_0's auc: 0.964489\n",
            "[2275]\tvalid_0's auc: 0.964496\n",
            "[2300]\tvalid_0's auc: 0.964493\n",
            "[2325]\tvalid_0's auc: 0.964507\n",
            "[2350]\tvalid_0's auc: 0.964503\n",
            "[2375]\tvalid_0's auc: 0.964504\n",
            "Early stopping, best iteration is:\n",
            "[2331]\tvalid_0's auc: 0.964514\n",
            "Fold_3\n",
            "0.9645137137197698\n",
            "\n",
            "Training until validation scores don't improve for 50 rounds.\n",
            "[25]\tvalid_0's auc: 0.954341\n",
            "[50]\tvalid_0's auc: 0.957178\n",
            "[75]\tvalid_0's auc: 0.958352\n",
            "[100]\tvalid_0's auc: 0.959169\n",
            "[125]\tvalid_0's auc: 0.95968\n",
            "[150]\tvalid_0's auc: 0.960226\n",
            "[175]\tvalid_0's auc: 0.960664\n",
            "[200]\tvalid_0's auc: 0.961092\n",
            "[225]\tvalid_0's auc: 0.961308\n",
            "[250]\tvalid_0's auc: 0.961566\n",
            "[275]\tvalid_0's auc: 0.961837\n",
            "[300]\tvalid_0's auc: 0.962109\n",
            "[325]\tvalid_0's auc: 0.9623\n",
            "[350]\tvalid_0's auc: 0.96248\n",
            "[375]\tvalid_0's auc: 0.962652\n",
            "[400]\tvalid_0's auc: 0.962828\n",
            "[425]\tvalid_0's auc: 0.962956\n",
            "[450]\tvalid_0's auc: 0.963056\n",
            "[475]\tvalid_0's auc: 0.96318\n",
            "[500]\tvalid_0's auc: 0.963245\n",
            "[525]\tvalid_0's auc: 0.963318\n",
            "[550]\tvalid_0's auc: 0.963419\n",
            "[575]\tvalid_0's auc: 0.963483\n",
            "[600]\tvalid_0's auc: 0.963533\n",
            "[625]\tvalid_0's auc: 0.96359\n",
            "[650]\tvalid_0's auc: 0.963664\n",
            "[675]\tvalid_0's auc: 0.96374\n",
            "[700]\tvalid_0's auc: 0.963782\n",
            "[725]\tvalid_0's auc: 0.963843\n",
            "[750]\tvalid_0's auc: 0.963891\n",
            "[775]\tvalid_0's auc: 0.963928\n",
            "[800]\tvalid_0's auc: 0.963966\n",
            "[825]\tvalid_0's auc: 0.964008\n",
            "[850]\tvalid_0's auc: 0.96404\n",
            "[875]\tvalid_0's auc: 0.964076\n",
            "[900]\tvalid_0's auc: 0.964124\n",
            "[925]\tvalid_0's auc: 0.96416\n",
            "[950]\tvalid_0's auc: 0.964207\n",
            "[975]\tvalid_0's auc: 0.96423\n",
            "[1000]\tvalid_0's auc: 0.964285\n",
            "[1025]\tvalid_0's auc: 0.964304\n",
            "[1050]\tvalid_0's auc: 0.964329\n",
            "[1075]\tvalid_0's auc: 0.96436\n",
            "[1100]\tvalid_0's auc: 0.964387\n",
            "[1125]\tvalid_0's auc: 0.964416\n",
            "[1150]\tvalid_0's auc: 0.964429\n",
            "[1175]\tvalid_0's auc: 0.964434\n",
            "[1200]\tvalid_0's auc: 0.964447\n",
            "[1225]\tvalid_0's auc: 0.964477\n",
            "[1250]\tvalid_0's auc: 0.96449\n",
            "[1275]\tvalid_0's auc: 0.964513\n",
            "[1300]\tvalid_0's auc: 0.964521\n",
            "[1325]\tvalid_0's auc: 0.964537\n",
            "[1350]\tvalid_0's auc: 0.964567\n",
            "[1375]\tvalid_0's auc: 0.964579\n",
            "[1400]\tvalid_0's auc: 0.964597\n",
            "[1425]\tvalid_0's auc: 0.964609\n",
            "[1450]\tvalid_0's auc: 0.964623\n",
            "[1475]\tvalid_0's auc: 0.964646\n",
            "[1500]\tvalid_0's auc: 0.964648\n",
            "[1525]\tvalid_0's auc: 0.964662\n",
            "[1550]\tvalid_0's auc: 0.964666\n",
            "[1575]\tvalid_0's auc: 0.964669\n",
            "[1600]\tvalid_0's auc: 0.964678\n",
            "[1625]\tvalid_0's auc: 0.964684\n",
            "[1650]\tvalid_0's auc: 0.964703\n",
            "[1675]\tvalid_0's auc: 0.96473\n",
            "[1700]\tvalid_0's auc: 0.964732\n",
            "[1725]\tvalid_0's auc: 0.964737\n",
            "[1750]\tvalid_0's auc: 0.964747\n",
            "[1775]\tvalid_0's auc: 0.964762\n",
            "[1800]\tvalid_0's auc: 0.964766\n",
            "[1825]\tvalid_0's auc: 0.964769\n",
            "[1850]\tvalid_0's auc: 0.964779\n",
            "[1875]\tvalid_0's auc: 0.964789\n",
            "[1900]\tvalid_0's auc: 0.964803\n",
            "[1925]\tvalid_0's auc: 0.964811\n",
            "[1950]\tvalid_0's auc: 0.964821\n",
            "[1975]\tvalid_0's auc: 0.964834\n",
            "[2000]\tvalid_0's auc: 0.964836\n",
            "[2025]\tvalid_0's auc: 0.964852\n",
            "[2050]\tvalid_0's auc: 0.964855\n",
            "[2075]\tvalid_0's auc: 0.964859\n",
            "[2100]\tvalid_0's auc: 0.96487\n",
            "[2125]\tvalid_0's auc: 0.964868\n",
            "[2150]\tvalid_0's auc: 0.964874\n",
            "[2175]\tvalid_0's auc: 0.964879\n",
            "[2200]\tvalid_0's auc: 0.964877\n",
            "[2225]\tvalid_0's auc: 0.964892\n",
            "[2250]\tvalid_0's auc: 0.964897\n",
            "[2275]\tvalid_0's auc: 0.964912\n",
            "[2300]\tvalid_0's auc: 0.964917\n",
            "[2325]\tvalid_0's auc: 0.964916\n",
            "[2350]\tvalid_0's auc: 0.964923\n",
            "[2375]\tvalid_0's auc: 0.964921\n",
            "[2400]\tvalid_0's auc: 0.964929\n",
            "[2425]\tvalid_0's auc: 0.964932\n",
            "[2450]\tvalid_0's auc: 0.964928\n",
            "Early stopping, best iteration is:\n",
            "[2422]\tvalid_0's auc: 0.964934\n",
            "Fold_4\n",
            "0.9649336791774675\n",
            "\n",
            "Training until validation scores don't improve for 50 rounds.\n",
            "[25]\tvalid_0's auc: 0.953136\n",
            "[50]\tvalid_0's auc: 0.956011\n",
            "[75]\tvalid_0's auc: 0.957241\n",
            "[100]\tvalid_0's auc: 0.958062\n",
            "[125]\tvalid_0's auc: 0.958611\n",
            "[150]\tvalid_0's auc: 0.959057\n",
            "[175]\tvalid_0's auc: 0.959513\n",
            "[200]\tvalid_0's auc: 0.959883\n",
            "[225]\tvalid_0's auc: 0.960232\n",
            "[250]\tvalid_0's auc: 0.960485\n",
            "[275]\tvalid_0's auc: 0.960785\n",
            "[300]\tvalid_0's auc: 0.961054\n",
            "[325]\tvalid_0's auc: 0.961367\n",
            "[350]\tvalid_0's auc: 0.961529\n",
            "[375]\tvalid_0's auc: 0.961677\n",
            "[400]\tvalid_0's auc: 0.961831\n",
            "[425]\tvalid_0's auc: 0.961977\n",
            "[450]\tvalid_0's auc: 0.962103\n",
            "[475]\tvalid_0's auc: 0.962223\n",
            "[500]\tvalid_0's auc: 0.962351\n",
            "[525]\tvalid_0's auc: 0.962431\n",
            "[550]\tvalid_0's auc: 0.962544\n",
            "[575]\tvalid_0's auc: 0.96262\n",
            "[600]\tvalid_0's auc: 0.962677\n",
            "[625]\tvalid_0's auc: 0.962735\n",
            "[650]\tvalid_0's auc: 0.962832\n",
            "[675]\tvalid_0's auc: 0.962907\n",
            "[700]\tvalid_0's auc: 0.962962\n",
            "[725]\tvalid_0's auc: 0.962999\n",
            "[750]\tvalid_0's auc: 0.963046\n",
            "[775]\tvalid_0's auc: 0.963099\n",
            "[800]\tvalid_0's auc: 0.96315\n",
            "[825]\tvalid_0's auc: 0.963185\n",
            "[850]\tvalid_0's auc: 0.963228\n",
            "[875]\tvalid_0's auc: 0.963248\n",
            "[900]\tvalid_0's auc: 0.963289\n",
            "[925]\tvalid_0's auc: 0.963328\n",
            "[950]\tvalid_0's auc: 0.963368\n",
            "[975]\tvalid_0's auc: 0.963408\n",
            "[1000]\tvalid_0's auc: 0.963445\n",
            "[1025]\tvalid_0's auc: 0.963477\n",
            "[1050]\tvalid_0's auc: 0.963505\n",
            "[1075]\tvalid_0's auc: 0.963524\n",
            "[1100]\tvalid_0's auc: 0.963554\n",
            "[1125]\tvalid_0's auc: 0.963575\n",
            "[1150]\tvalid_0's auc: 0.963587\n",
            "[1175]\tvalid_0's auc: 0.963614\n",
            "[1200]\tvalid_0's auc: 0.963638\n",
            "[1225]\tvalid_0's auc: 0.963656\n",
            "[1250]\tvalid_0's auc: 0.963665\n",
            "[1275]\tvalid_0's auc: 0.963692\n",
            "[1300]\tvalid_0's auc: 0.963709\n",
            "[1325]\tvalid_0's auc: 0.963739\n",
            "[1350]\tvalid_0's auc: 0.963756\n",
            "[1375]\tvalid_0's auc: 0.96376\n",
            "[1400]\tvalid_0's auc: 0.963771\n",
            "[1425]\tvalid_0's auc: 0.963788\n",
            "[1450]\tvalid_0's auc: 0.963805\n",
            "[1475]\tvalid_0's auc: 0.963821\n",
            "[1500]\tvalid_0's auc: 0.963832\n",
            "[1525]\tvalid_0's auc: 0.963846\n",
            "[1550]\tvalid_0's auc: 0.963859\n",
            "[1575]\tvalid_0's auc: 0.963875\n",
            "[1600]\tvalid_0's auc: 0.963893\n",
            "[1625]\tvalid_0's auc: 0.963896\n",
            "[1650]\tvalid_0's auc: 0.963914\n",
            "[1675]\tvalid_0's auc: 0.963918\n",
            "[1700]\tvalid_0's auc: 0.963942\n",
            "[1725]\tvalid_0's auc: 0.963952\n",
            "[1750]\tvalid_0's auc: 0.963965\n",
            "[1775]\tvalid_0's auc: 0.96398\n",
            "[1800]\tvalid_0's auc: 0.964003\n",
            "[1825]\tvalid_0's auc: 0.964013\n",
            "[1850]\tvalid_0's auc: 0.964022\n",
            "[1875]\tvalid_0's auc: 0.96403\n",
            "[1900]\tvalid_0's auc: 0.964048\n",
            "[1925]\tvalid_0's auc: 0.964069\n",
            "[1950]\tvalid_0's auc: 0.964072\n",
            "[1975]\tvalid_0's auc: 0.96409\n",
            "[2000]\tvalid_0's auc: 0.964103\n",
            "[2025]\tvalid_0's auc: 0.964115\n",
            "[2050]\tvalid_0's auc: 0.964119\n",
            "[2075]\tvalid_0's auc: 0.964124\n",
            "[2100]\tvalid_0's auc: 0.964137\n",
            "[2125]\tvalid_0's auc: 0.964153\n",
            "[2150]\tvalid_0's auc: 0.964146\n",
            "[2175]\tvalid_0's auc: 0.964156\n",
            "[2200]\tvalid_0's auc: 0.964167\n",
            "[2225]\tvalid_0's auc: 0.964167\n",
            "[2250]\tvalid_0's auc: 0.964168\n",
            "[2275]\tvalid_0's auc: 0.964176\n",
            "[2300]\tvalid_0's auc: 0.964183\n",
            "[2325]\tvalid_0's auc: 0.964184\n",
            "[2350]\tvalid_0's auc: 0.964186\n",
            "[2375]\tvalid_0's auc: 0.964199\n",
            "[2400]\tvalid_0's auc: 0.96421\n",
            "[2425]\tvalid_0's auc: 0.964223\n",
            "[2450]\tvalid_0's auc: 0.964227\n",
            "[2475]\tvalid_0's auc: 0.964233\n",
            "[2500]\tvalid_0's auc: 0.96424\n",
            "[2525]\tvalid_0's auc: 0.964247\n",
            "[2550]\tvalid_0's auc: 0.964252\n",
            "[2575]\tvalid_0's auc: 0.964254\n",
            "[2600]\tvalid_0's auc: 0.96427\n",
            "[2625]\tvalid_0's auc: 0.964267\n",
            "Early stopping, best iteration is:\n",
            "[2593]\tvalid_0's auc: 0.964272\n",
            "Fold_5\n",
            "0.9642715254580201\n",
            "\n",
            "mean: 0.9645332422687407\n",
            "std: 0.00043703630445536063\n"
          ],
          "name": "stdout"
        }
      ]
    },
    {
      "cell_type": "code",
      "metadata": {
        "id": "sUYV9ftxdDSs"
      },
      "source": [
        "\r\n",
        "w=[x for x in importancias.columns if 'gain_' in x]\r\n",
        "\r\n",
        "importancias['gain-avg']=importancias[w].mean(axis=1)\r\n",
        "\r\n",
        "importancias=importancias.sort_values('gain-avg',ascending=False).reset_index(drop=True)"
      ],
      "execution_count": 72,
      "outputs": []
    },
    {
      "cell_type": "code",
      "metadata": {
        "colab": {
          "base_uri": "https://localhost:8080/",
          "height": 534
        },
        "id": "V4revYAvsyFJ",
        "outputId": "64887e2c-3653-4a8f-f43e-63e0ce25815c"
      },
      "source": [
        "importancias"
      ],
      "execution_count": 73,
      "outputs": [
        {
          "output_type": "execute_result",
          "data": {
            "text/html": [
              "<div>\n",
              "<style scoped>\n",
              "    .dataframe tbody tr th:only-of-type {\n",
              "        vertical-align: middle;\n",
              "    }\n",
              "\n",
              "    .dataframe tbody tr th {\n",
              "        vertical-align: top;\n",
              "    }\n",
              "\n",
              "    .dataframe thead th {\n",
              "        text-align: right;\n",
              "    }\n",
              "</style>\n",
              "<table border=\"1\" class=\"dataframe\">\n",
              "  <thead>\n",
              "    <tr style=\"text-align: right;\">\n",
              "      <th></th>\n",
              "      <th>variable</th>\n",
              "      <th>gain_1</th>\n",
              "      <th>gain_2</th>\n",
              "      <th>gain_3</th>\n",
              "      <th>gain_4</th>\n",
              "      <th>gain_5</th>\n",
              "      <th>gain-avg</th>\n",
              "    </tr>\n",
              "  </thead>\n",
              "  <tbody>\n",
              "    <tr>\n",
              "      <th>0</th>\n",
              "      <td>AÑO</td>\n",
              "      <td>485870.741778</td>\n",
              "      <td>484884.107778</td>\n",
              "      <td>486792.896745</td>\n",
              "      <td>486320.515530</td>\n",
              "      <td>487855.059704</td>\n",
              "      <td>486344.664307</td>\n",
              "    </tr>\n",
              "    <tr>\n",
              "      <th>1</th>\n",
              "      <td>MES</td>\n",
              "      <td>138319.766388</td>\n",
              "      <td>138441.417628</td>\n",
              "      <td>137380.591886</td>\n",
              "      <td>138590.002064</td>\n",
              "      <td>138098.482009</td>\n",
              "      <td>138166.051995</td>\n",
              "    </tr>\n",
              "    <tr>\n",
              "      <th>2</th>\n",
              "      <td>INSTITUCION</td>\n",
              "      <td>101259.758149</td>\n",
              "      <td>103072.145314</td>\n",
              "      <td>102684.936413</td>\n",
              "      <td>103344.371681</td>\n",
              "      <td>104477.538002</td>\n",
              "      <td>102967.749912</td>\n",
              "    </tr>\n",
              "    <tr>\n",
              "      <th>3</th>\n",
              "      <td>NIVEL DE INSTRUCCIÓN</td>\n",
              "      <td>43353.296092</td>\n",
              "      <td>42455.676000</td>\n",
              "      <td>44346.336248</td>\n",
              "      <td>43375.953208</td>\n",
              "      <td>42565.098694</td>\n",
              "      <td>43219.272049</td>\n",
              "    </tr>\n",
              "    <tr>\n",
              "      <th>4</th>\n",
              "      <td>TIPO LUGAR</td>\n",
              "      <td>38835.113842</td>\n",
              "      <td>39370.297935</td>\n",
              "      <td>40104.633745</td>\n",
              "      <td>39153.058889</td>\n",
              "      <td>39753.629682</td>\n",
              "      <td>39443.346818</td>\n",
              "    </tr>\n",
              "    <tr>\n",
              "      <th>5</th>\n",
              "      <td>TIEMPO</td>\n",
              "      <td>32625.203456</td>\n",
              "      <td>33191.512068</td>\n",
              "      <td>33591.301462</td>\n",
              "      <td>33027.910633</td>\n",
              "      <td>34590.001210</td>\n",
              "      <td>33405.185766</td>\n",
              "    </tr>\n",
              "    <tr>\n",
              "      <th>6</th>\n",
              "      <td>NECROPSIA</td>\n",
              "      <td>31625.710175</td>\n",
              "      <td>32022.876367</td>\n",
              "      <td>31295.650838</td>\n",
              "      <td>31728.859321</td>\n",
              "      <td>31642.216499</td>\n",
              "      <td>31663.062640</td>\n",
              "    </tr>\n",
              "    <tr>\n",
              "      <th>7</th>\n",
              "      <td>DEPARTAMENTO DOMICILIO</td>\n",
              "      <td>21403.562796</td>\n",
              "      <td>21889.510326</td>\n",
              "      <td>21983.249895</td>\n",
              "      <td>23039.293078</td>\n",
              "      <td>23739.975506</td>\n",
              "      <td>22411.118320</td>\n",
              "    </tr>\n",
              "    <tr>\n",
              "      <th>8</th>\n",
              "      <td>PROVINCIA DOMICILIO</td>\n",
              "      <td>18587.622044</td>\n",
              "      <td>18040.012477</td>\n",
              "      <td>20005.511141</td>\n",
              "      <td>19675.127608</td>\n",
              "      <td>18607.199447</td>\n",
              "      <td>18983.094543</td>\n",
              "    </tr>\n",
              "    <tr>\n",
              "      <th>9</th>\n",
              "      <td>DISTRITO DOMICILIO</td>\n",
              "      <td>8955.239150</td>\n",
              "      <td>9537.085954</td>\n",
              "      <td>10935.093841</td>\n",
              "      <td>10783.521191</td>\n",
              "      <td>11158.283071</td>\n",
              "      <td>10273.844641</td>\n",
              "    </tr>\n",
              "    <tr>\n",
              "      <th>10</th>\n",
              "      <td>SEXO</td>\n",
              "      <td>7220.570663</td>\n",
              "      <td>7120.319189</td>\n",
              "      <td>7796.101499</td>\n",
              "      <td>7466.085497</td>\n",
              "      <td>7674.082172</td>\n",
              "      <td>7455.431804</td>\n",
              "    </tr>\n",
              "    <tr>\n",
              "      <th>11</th>\n",
              "      <td>TIPO SEGURO</td>\n",
              "      <td>6626.004532</td>\n",
              "      <td>6613.933665</td>\n",
              "      <td>7001.069317</td>\n",
              "      <td>8003.823466</td>\n",
              "      <td>7638.213936</td>\n",
              "      <td>7176.608983</td>\n",
              "    </tr>\n",
              "    <tr>\n",
              "      <th>12</th>\n",
              "      <td>MUERTE VIOLENTA</td>\n",
              "      <td>3403.178400</td>\n",
              "      <td>3383.976341</td>\n",
              "      <td>3893.888848</td>\n",
              "      <td>3836.343839</td>\n",
              "      <td>3420.522862</td>\n",
              "      <td>3587.582058</td>\n",
              "    </tr>\n",
              "    <tr>\n",
              "      <th>13</th>\n",
              "      <td>ESTADO CIVIL</td>\n",
              "      <td>2504.059018</td>\n",
              "      <td>3044.809530</td>\n",
              "      <td>3307.303069</td>\n",
              "      <td>3432.169228</td>\n",
              "      <td>3353.456813</td>\n",
              "      <td>3128.359532</td>\n",
              "    </tr>\n",
              "    <tr>\n",
              "      <th>14</th>\n",
              "      <td>TIPO SEGURO_FE</td>\n",
              "      <td>2160.221522</td>\n",
              "      <td>2302.374400</td>\n",
              "      <td>2503.162692</td>\n",
              "      <td>2225.831570</td>\n",
              "      <td>2096.786834</td>\n",
              "      <td>2257.675404</td>\n",
              "    </tr>\n",
              "    <tr>\n",
              "      <th>15</th>\n",
              "      <td>PAIS DOMICILIO</td>\n",
              "      <td>150.919026</td>\n",
              "      <td>171.925831</td>\n",
              "      <td>189.125585</td>\n",
              "      <td>169.154122</td>\n",
              "      <td>203.518812</td>\n",
              "      <td>176.928675</td>\n",
              "    </tr>\n",
              "  </tbody>\n",
              "</table>\n",
              "</div>"
            ],
            "text/plain": [
              "                  variable         gain_1  ...         gain_5       gain-avg\n",
              "0                      AÑO  485870.741778  ...  487855.059704  486344.664307\n",
              "1                      MES  138319.766388  ...  138098.482009  138166.051995\n",
              "2              INSTITUCION  101259.758149  ...  104477.538002  102967.749912\n",
              "3     NIVEL DE INSTRUCCIÓN   43353.296092  ...   42565.098694   43219.272049\n",
              "4               TIPO LUGAR   38835.113842  ...   39753.629682   39443.346818\n",
              "5                   TIEMPO   32625.203456  ...   34590.001210   33405.185766\n",
              "6                NECROPSIA   31625.710175  ...   31642.216499   31663.062640\n",
              "7   DEPARTAMENTO DOMICILIO   21403.562796  ...   23739.975506   22411.118320\n",
              "8      PROVINCIA DOMICILIO   18587.622044  ...   18607.199447   18983.094543\n",
              "9       DISTRITO DOMICILIO    8955.239150  ...   11158.283071   10273.844641\n",
              "10                    SEXO    7220.570663  ...    7674.082172    7455.431804\n",
              "11             TIPO SEGURO    6626.004532  ...    7638.213936    7176.608983\n",
              "12         MUERTE VIOLENTA    3403.178400  ...    3420.522862    3587.582058\n",
              "13            ESTADO CIVIL    2504.059018  ...    3353.456813    3128.359532\n",
              "14          TIPO SEGURO_FE    2160.221522  ...    2096.786834    2257.675404\n",
              "15          PAIS DOMICILIO     150.919026  ...     203.518812     176.928675\n",
              "\n",
              "[16 rows x 7 columns]"
            ]
          },
          "metadata": {
            "tags": []
          },
          "execution_count": 73
        }
      ]
    },
    {
      "cell_type": "code",
      "metadata": {
        "id": "vnD8NgeWsyIq"
      },
      "source": [
        "\"AÑO\",\"MES\",\"INSTITUCION\",\"NIVEL DE INSTRUCCIÓN\",\"TIPO LUGAR\",\"TIEMPO\",\"NECROPSIA\",\"DEPARTAMENTO DOMICILIO\",\"PROVINCIA DOMICILIO\",\"DISTRITO DOMICILIO\",\"SEXO\"\t"
      ],
      "execution_count": null,
      "outputs": []
    },
    {
      "cell_type": "code",
      "metadata": {
        "id": "pGmu_NASsyKc"
      },
      "source": [
        ""
      ],
      "execution_count": null,
      "outputs": []
    }
  ]
}