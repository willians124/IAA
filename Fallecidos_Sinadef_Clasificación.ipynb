{
  "nbformat": 4,
  "nbformat_minor": 0,
  "metadata": {
    "colab": {
      "name": "Fallecidos_Sinadef.ipynb",
      "provenance": [],
      "toc_visible": true
    },
    "kernelspec": {
      "name": "python3",
      "display_name": "Python 3"
    }
  },
  "cells": [
    {
      "cell_type": "markdown",
      "metadata": {
        "id": "aQqPQVTk7oxf"
      },
      "source": [
        "#**INTELIGENCIA ARTIFICIAL AVANZADA 2PC**\r\n",
        "#**DATA FALLECIDOS SINADEF**\r\n"
      ]
    },
    {
      "cell_type": "code",
      "metadata": {
        "id": "RrZtpmFq7VWO"
      },
      "source": [
        "import pandas as pd"
      ],
      "execution_count": 1,
      "outputs": []
    },
    {
      "cell_type": "code",
      "metadata": {
        "colab": {
          "base_uri": "https://localhost:8080/"
        },
        "id": "ANTYZFu77s61",
        "outputId": "023fb408-079f-4848-ac72-345cc18b0d68"
      },
      "source": [
        "fal_sin=pd.read_csv(\"/content/fallecidos_sinadef.csv\", sep=';' , encoding='latin-1',header=2).iloc[:,1:-4]"
      ],
      "execution_count": 2,
      "outputs": [
        {
          "output_type": "stream",
          "text": [
            "/usr/local/lib/python3.6/dist-packages/IPython/core/interactiveshell.py:2718: DtypeWarning: Columns (3) have mixed types.Specify dtype option on import or set low_memory=False.\n",
            "  interactivity=interactivity, compiler=compiler, result=result)\n"
          ],
          "name": "stderr"
        }
      ]
    },
    {
      "cell_type": "code",
      "metadata": {
        "colab": {
          "base_uri": "https://localhost:8080/",
          "height": 517
        },
        "id": "Dwp2dwWWAhYK",
        "outputId": "19aafc9e-46bb-4e03-ed9a-bd05e38dbc82"
      },
      "source": [
        "fal_sin.head()"
      ],
      "execution_count": 3,
      "outputs": [
        {
          "output_type": "execute_result",
          "data": {
            "text/html": [
              "<div>\n",
              "<style scoped>\n",
              "    .dataframe tbody tr th:only-of-type {\n",
              "        vertical-align: middle;\n",
              "    }\n",
              "\n",
              "    .dataframe tbody tr th {\n",
              "        vertical-align: top;\n",
              "    }\n",
              "\n",
              "    .dataframe thead th {\n",
              "        text-align: right;\n",
              "    }\n",
              "</style>\n",
              "<table border=\"1\" class=\"dataframe\">\n",
              "  <thead>\n",
              "    <tr style=\"text-align: right;\">\n",
              "      <th></th>\n",
              "      <th>TIPO SEGURO</th>\n",
              "      <th>SEXO</th>\n",
              "      <th>EDAD</th>\n",
              "      <th>TIEMPO EDAD</th>\n",
              "      <th>ESTADO CIVIL</th>\n",
              "      <th>NIVEL DE INSTRUCCIÓN</th>\n",
              "      <th>COD# UBIGEO DOMICILIO</th>\n",
              "      <th>PAIS DOMICILIO</th>\n",
              "      <th>DEPARTAMENTO DOMICILIO</th>\n",
              "      <th>PROVINCIA DOMICILIO</th>\n",
              "      <th>DISTRITO DOMICILIO</th>\n",
              "      <th>FECHA</th>\n",
              "      <th>AÑO</th>\n",
              "      <th>MES</th>\n",
              "      <th>TIPO LUGAR</th>\n",
              "      <th>INSTITUCION</th>\n",
              "      <th>MUERTE VIOLENTA</th>\n",
              "      <th>NECROPSIA</th>\n",
              "      <th>DEBIDO A (CAUSA A)</th>\n",
              "      <th>CAUSA A (CIE-X)</th>\n",
              "      <th>DEBIDO A (CAUSA B)</th>\n",
              "      <th>CAUSA B (CIE-X)</th>\n",
              "      <th>DEBIDO A (CAUSA C)</th>\n",
              "      <th>CAUSA C (CIE-X)</th>\n",
              "      <th>DEBIDO A (CAUSA D)</th>\n",
              "      <th>CAUSA D (CIE-X)</th>\n",
              "      <th>DEBIDO A (CAUSA E)</th>\n",
              "      <th>CAUSA E (CIE-X)</th>\n",
              "      <th>DEBIDO A (CAUSA F)</th>\n",
              "      <th>CAUSA F (CIE-X)</th>\n",
              "    </tr>\n",
              "  </thead>\n",
              "  <tbody>\n",
              "    <tr>\n",
              "      <th>0</th>\n",
              "      <td>SIS</td>\n",
              "      <td>MASCULINO</td>\n",
              "      <td>4</td>\n",
              "      <td>AÑOS</td>\n",
              "      <td>SOLTERO</td>\n",
              "      <td>IGNORADO</td>\n",
              "      <td>92-33-21-04-01-000</td>\n",
              "      <td>PERU</td>\n",
              "      <td>SAN MARTIN</td>\n",
              "      <td>MARISCAL CACERES</td>\n",
              "      <td>JUANJUI</td>\n",
              "      <td>2020-01-17</td>\n",
              "      <td>2020</td>\n",
              "      <td>1</td>\n",
              "      <td>EESS</td>\n",
              "      <td>GOBIERNO REGIONAL</td>\n",
              "      <td>SIN REGISTRO</td>\n",
              "      <td>NO SE REALIZÓ NECROPSIA</td>\n",
              "      <td>INSUFICIENCIA RESPIRATORIA AGUDA</td>\n",
              "      <td>J960</td>\n",
              "      <td>NEUMONIA SEVERA</td>\n",
              "      <td>J159</td>\n",
              "      <td>SIN REGISTRO</td>\n",
              "      <td>SIN REGISTRO</td>\n",
              "      <td>SIN REGISTRO</td>\n",
              "      <td>SIN REGISTRO</td>\n",
              "      <td>PARALISIS CEREBRAL INFANTIL</td>\n",
              "      <td>G809</td>\n",
              "      <td>SIN REGISTRO</td>\n",
              "      <td>SIN REGISTRO</td>\n",
              "    </tr>\n",
              "    <tr>\n",
              "      <th>1</th>\n",
              "      <td>SIS</td>\n",
              "      <td>FEMENINO</td>\n",
              "      <td>86</td>\n",
              "      <td>AÑOS</td>\n",
              "      <td>SOLTERO</td>\n",
              "      <td>PRIMARIA INCOMPLETA</td>\n",
              "      <td>92-33-21-03-13-000</td>\n",
              "      <td>PERU</td>\n",
              "      <td>SAN MARTIN</td>\n",
              "      <td>LAMAS</td>\n",
              "      <td>TABALOSOS</td>\n",
              "      <td>2020-01-03</td>\n",
              "      <td>2020</td>\n",
              "      <td>1</td>\n",
              "      <td>DOMICILIO</td>\n",
              "      <td>SIN REGISTRO</td>\n",
              "      <td>SIN REGISTRO</td>\n",
              "      <td>NO SE REALIZÓ NECROPSIA</td>\n",
              "      <td>INFARTO AGUDO DEL MIOCARDIO SIN OTRA ESPECIFIC...</td>\n",
              "      <td>I219</td>\n",
              "      <td>HIPERLIPIDEMIA NO ESPECIFICADA</td>\n",
              "      <td>E785</td>\n",
              "      <td>ATEROSCLEROSIS GENERALIZADA Y LA NO ESPECIFICADA</td>\n",
              "      <td>I709</td>\n",
              "      <td>HIPERTENSION ESENCIAL</td>\n",
              "      <td>I10X</td>\n",
              "      <td>SIN REGISTRO</td>\n",
              "      <td>SIN REGISTRO</td>\n",
              "      <td>SIN REGISTRO</td>\n",
              "      <td>SIN REGISTRO</td>\n",
              "    </tr>\n",
              "    <tr>\n",
              "      <th>2</th>\n",
              "      <td>IGNORADO</td>\n",
              "      <td>MASCULINO</td>\n",
              "      <td>38</td>\n",
              "      <td>AÑOS</td>\n",
              "      <td>IGNORADO</td>\n",
              "      <td>IGNORADO</td>\n",
              "      <td>93-32-00-00-00-000</td>\n",
              "      <td>FILIPINAS</td>\n",
              "      <td>EXTRANJERO</td>\n",
              "      <td>EXTRANJERO</td>\n",
              "      <td>EXTRANJERO</td>\n",
              "      <td>2020-01-19</td>\n",
              "      <td>2020</td>\n",
              "      <td>1</td>\n",
              "      <td>OTRO</td>\n",
              "      <td>SIN REGISTRO</td>\n",
              "      <td>SIN REGISTRO</td>\n",
              "      <td>SI SE REALIZÓ NECROPSIA</td>\n",
              "      <td>EDEMA Y CONGESTION CEREBRAL Y PULMONAR</td>\n",
              "      <td>SIN REGISTRO</td>\n",
              "      <td>SIN REGISTRO</td>\n",
              "      <td>SIN REGISTRO</td>\n",
              "      <td>SIN REGISTRO</td>\n",
              "      <td>SIN REGISTRO</td>\n",
              "      <td>SIN REGISTRO</td>\n",
              "      <td>SIN REGISTRO</td>\n",
              "      <td>SIN REGISTRO</td>\n",
              "      <td>SIN REGISTRO</td>\n",
              "      <td>SIN REGISTRO</td>\n",
              "      <td>SIN REGISTRO</td>\n",
              "    </tr>\n",
              "    <tr>\n",
              "      <th>3</th>\n",
              "      <td>USUARIO</td>\n",
              "      <td>FEMENINO</td>\n",
              "      <td>64</td>\n",
              "      <td>AÑOS</td>\n",
              "      <td>SOLTERO</td>\n",
              "      <td>PRIMARIA COMPLETA</td>\n",
              "      <td>92-33-14-01-37-000</td>\n",
              "      <td>PERU</td>\n",
              "      <td>LIMA</td>\n",
              "      <td>LIMA</td>\n",
              "      <td>SAN JUAN DE LURIGANCHO</td>\n",
              "      <td>2020-01-06</td>\n",
              "      <td>2020</td>\n",
              "      <td>1</td>\n",
              "      <td>DOMICILIO</td>\n",
              "      <td>SIN REGISTRO</td>\n",
              "      <td>SIN REGISTRO</td>\n",
              "      <td>SI SE REALIZÓ NECROPSIA</td>\n",
              "      <td>TUBERCULOSIS PULMONAR</td>\n",
              "      <td>SIN REGISTRO</td>\n",
              "      <td>SIN REGISTRO</td>\n",
              "      <td>SIN REGISTRO</td>\n",
              "      <td>SIN REGISTRO</td>\n",
              "      <td>SIN REGISTRO</td>\n",
              "      <td>SIN REGISTRO</td>\n",
              "      <td>SIN REGISTRO</td>\n",
              "      <td>SIN REGISTRO</td>\n",
              "      <td>SIN REGISTRO</td>\n",
              "      <td>SIN REGISTRO</td>\n",
              "      <td>SIN REGISTRO</td>\n",
              "    </tr>\n",
              "    <tr>\n",
              "      <th>4</th>\n",
              "      <td>IGNORADO</td>\n",
              "      <td>MASCULINO</td>\n",
              "      <td>20</td>\n",
              "      <td>AÑOS</td>\n",
              "      <td>SOLTERO</td>\n",
              "      <td>IGNORADO</td>\n",
              "      <td>92-33-24-01-02-000</td>\n",
              "      <td>PERU</td>\n",
              "      <td>CALLAO</td>\n",
              "      <td>CALLAO</td>\n",
              "      <td>BELLAVISTA</td>\n",
              "      <td>2020-01-13</td>\n",
              "      <td>2020</td>\n",
              "      <td>1</td>\n",
              "      <td>EESS</td>\n",
              "      <td>GOBIERNO REGIONAL</td>\n",
              "      <td>HOMICIDIO</td>\n",
              "      <td>SI SE REALIZÓ NECROPSIA</td>\n",
              "      <td>SHOCK HIPOVOLEMICO</td>\n",
              "      <td>SIN REGISTRO</td>\n",
              "      <td>TAPONAMIENTO CARDIACO</td>\n",
              "      <td>SIN REGISTRO</td>\n",
              "      <td>TRAUMA TORACICO ABIERTO POR PROYECTIL DE ARMA ...</td>\n",
              "      <td>SIN REGISTRO</td>\n",
              "      <td>SIN REGISTRO</td>\n",
              "      <td>SIN REGISTRO</td>\n",
              "      <td>SIN REGISTRO</td>\n",
              "      <td>SIN REGISTRO</td>\n",
              "      <td>SIN REGISTRO</td>\n",
              "      <td>SIN REGISTRO</td>\n",
              "    </tr>\n",
              "  </tbody>\n",
              "</table>\n",
              "</div>"
            ],
            "text/plain": [
              "  TIPO SEGURO       SEXO  ... DEBIDO A (CAUSA F) CAUSA F (CIE-X)\n",
              "0         SIS  MASCULINO  ...       SIN REGISTRO    SIN REGISTRO\n",
              "1         SIS   FEMENINO  ...       SIN REGISTRO    SIN REGISTRO\n",
              "2    IGNORADO  MASCULINO  ...       SIN REGISTRO    SIN REGISTRO\n",
              "3     USUARIO   FEMENINO  ...       SIN REGISTRO    SIN REGISTRO\n",
              "4    IGNORADO  MASCULINO  ...       SIN REGISTRO    SIN REGISTRO\n",
              "\n",
              "[5 rows x 30 columns]"
            ]
          },
          "metadata": {
            "tags": []
          },
          "execution_count": 3
        }
      ]
    },
    {
      "cell_type": "code",
      "metadata": {
        "colab": {
          "base_uri": "https://localhost:8080/"
        },
        "id": "Hdbvt7i58Tj1",
        "outputId": "d5b77108-4fa2-4fad-f0a1-122c678a43fa"
      },
      "source": [
        "fal_sin[\"TIPO SEGURO\"].value_counts(dropna=False)"
      ],
      "execution_count": 4,
      "outputs": [
        {
          "output_type": "execute_result",
          "data": {
            "text/plain": [
              "SIS              253923\n",
              "ESSALUD          156001\n",
              "IGNORADO          94457\n",
              "USUARIO            9863\n",
              "OTROS              9504\n",
              "PRIVADOS           8699\n",
              "SANIDAD PNP        8361\n",
              "SANIDAD NAVAL      1533\n",
              "SANIDAD EP         1377\n",
              "SANIDAD FAP        1363\n",
              "EXONERADO           900\n",
              "SOAT                 29\n",
              "SIN REGISTRO          1\n",
              "Name: TIPO SEGURO, dtype: int64"
            ]
          },
          "metadata": {
            "tags": []
          },
          "execution_count": 4
        }
      ]
    },
    {
      "cell_type": "code",
      "metadata": {
        "id": "b6AUZ6Di9iZV"
      },
      "source": [
        "def  TIPO_SEGURO_FE(x):\r\n",
        "    if(x==\"SANIDAD PNP\"):\r\n",
        "      return \"SANIDAD\"\r\n",
        "    if(x==\"SANIDAD NAVAL\"):\r\n",
        "      return \"SANIDAD\"\r\n",
        "    if(x==\"SANIDAD EP\"):\r\n",
        "      return \"SANIDAD\"\r\n",
        "    if(x==\"SANIDAD FAP\"):\r\n",
        "      return \"SANIDAD\"\r\n",
        "    if(x==\"SOAT\"):\r\n",
        "      return \"PRIVADOS\"\r\n",
        "    if(x==\"SIS\"):\r\n",
        "      return \"PUBLICO\"\r\n",
        "    if(x==\"ESSALUD\"):\r\n",
        "      return \"PUBLICO\"\r\n",
        "    return \"OTROS\""
      ],
      "execution_count": 5,
      "outputs": []
    },
    {
      "cell_type": "code",
      "metadata": {
        "id": "NvoTyeRG7tBV"
      },
      "source": [
        "fal_sin[\"TIPO SEGURO_FE\"]=fal_sin[\"TIPO SEGURO\"].apply(TIPO_SEGURO_FE)"
      ],
      "execution_count": 6,
      "outputs": []
    },
    {
      "cell_type": "code",
      "metadata": {
        "colab": {
          "base_uri": "https://localhost:8080/"
        },
        "id": "8UD_Nxje7tEZ",
        "outputId": "918043ee-60b1-4bf8-888b-21f2a586ab92"
      },
      "source": [
        "fal_sin[\"TIPO SEGURO_FE\"].value_counts()"
      ],
      "execution_count": 7,
      "outputs": [
        {
          "output_type": "execute_result",
          "data": {
            "text/plain": [
              "PUBLICO     409924\n",
              "OTROS       123424\n",
              "SANIDAD      12634\n",
              "PRIVADOS        29\n",
              "Name: TIPO SEGURO_FE, dtype: int64"
            ]
          },
          "metadata": {
            "tags": []
          },
          "execution_count": 7
        }
      ]
    },
    {
      "cell_type": "code",
      "metadata": {
        "colab": {
          "base_uri": "https://localhost:8080/"
        },
        "id": "qfB4JKgE7tGk",
        "outputId": "874df8ae-1bd2-417d-c4bc-37ff114cacc3"
      },
      "source": [
        "fal_sin[\"SEXO\"].value_counts(dropna=False)"
      ],
      "execution_count": 8,
      "outputs": [
        {
          "output_type": "execute_result",
          "data": {
            "text/plain": [
              "MASCULINO        306169\n",
              "FEMENINO         239771\n",
              "INDETERMINADO        67\n",
              "SIN REGISTRO          4\n",
              "Name: SEXO, dtype: int64"
            ]
          },
          "metadata": {
            "tags": []
          },
          "execution_count": 8
        }
      ]
    },
    {
      "cell_type": "code",
      "metadata": {
        "colab": {
          "base_uri": "https://localhost:8080/"
        },
        "id": "A3hiK0zfGwxu",
        "outputId": "2cf9edb0-f21c-4f3c-de22-3a09ae30eade"
      },
      "source": [
        "fal_sin[\"TIEMPO EDAD\"].value_counts(dropna=False)"
      ],
      "execution_count": 9,
      "outputs": [
        {
          "output_type": "execute_result",
          "data": {
            "text/plain": [
              "AÑOS            527537\n",
              "DIAS              7541\n",
              "MESES             7047\n",
              "HORAS             2641\n",
              "MINUTOS            805\n",
              "IGNORADO           269\n",
              "SIN REGISTRO       138\n",
              "SEGUNDOS            33\n",
              "Name: TIEMPO EDAD, dtype: int64"
            ]
          },
          "metadata": {
            "tags": []
          },
          "execution_count": 9
        }
      ]
    },
    {
      "cell_type": "code",
      "metadata": {
        "id": "bGM7Y_JPJkOj"
      },
      "source": [
        " fal_sin=fal_sin[fal_sin[\"TIEMPO EDAD\"].isin([\"AÑOS\",           \r\n",
        "\"DIAS\"  ,            \r\n",
        "\"MESES\"  ,           \r\n",
        "\"HORAS\"   ,          \r\n",
        "\"MINUTOS\"  ,     \r\n",
        "\"SEGUNDOS\"] )]"
      ],
      "execution_count": 10,
      "outputs": []
    },
    {
      "cell_type": "code",
      "metadata": {
        "colab": {
          "base_uri": "https://localhost:8080/"
        },
        "id": "kV3gqGPjLgUF",
        "outputId": "8f547cb3-b8d9-4655-b567-806663b01fcc"
      },
      "source": [
        "fal_sin.info()"
      ],
      "execution_count": 11,
      "outputs": [
        {
          "output_type": "stream",
          "text": [
            "<class 'pandas.core.frame.DataFrame'>\n",
            "Int64Index: 545604 entries, 0 to 546010\n",
            "Data columns (total 31 columns):\n",
            " #   Column                  Non-Null Count   Dtype \n",
            "---  ------                  --------------   ----- \n",
            " 0   TIPO SEGURO             545604 non-null  object\n",
            " 1   SEXO                    545604 non-null  object\n",
            " 2   EDAD                    545604 non-null  object\n",
            " 3   TIEMPO EDAD             545604 non-null  object\n",
            " 4   ESTADO CIVIL            545604 non-null  object\n",
            " 5   NIVEL DE INSTRUCCIÓN    545604 non-null  object\n",
            " 6   COD# UBIGEO DOMICILIO   545604 non-null  object\n",
            " 7   PAIS DOMICILIO          545604 non-null  object\n",
            " 8   DEPARTAMENTO DOMICILIO  545604 non-null  object\n",
            " 9   PROVINCIA DOMICILIO     545604 non-null  object\n",
            " 10  DISTRITO DOMICILIO      545604 non-null  object\n",
            " 11  FECHA                   545604 non-null  object\n",
            " 12  AÑO                     545604 non-null  int64 \n",
            " 13  MES                     545604 non-null  int64 \n",
            " 14  TIPO LUGAR              545604 non-null  object\n",
            " 15  INSTITUCION             545604 non-null  object\n",
            " 16  MUERTE VIOLENTA         545604 non-null  object\n",
            " 17  NECROPSIA               545604 non-null  object\n",
            " 18  DEBIDO A (CAUSA A)      545604 non-null  object\n",
            " 19  CAUSA A (CIE-X)         545604 non-null  object\n",
            " 20  DEBIDO A (CAUSA B)      545604 non-null  object\n",
            " 21  CAUSA B (CIE-X)         545604 non-null  object\n",
            " 22  DEBIDO A (CAUSA C)      545604 non-null  object\n",
            " 23  CAUSA C (CIE-X)         545604 non-null  object\n",
            " 24  DEBIDO A (CAUSA D)      545604 non-null  object\n",
            " 25  CAUSA D (CIE-X)         545604 non-null  object\n",
            " 26  DEBIDO A (CAUSA E)      545604 non-null  object\n",
            " 27  CAUSA E (CIE-X)         545604 non-null  object\n",
            " 28  DEBIDO A (CAUSA F)      545604 non-null  object\n",
            " 29  CAUSA F (CIE-X)         545604 non-null  object\n",
            " 30  TIPO SEGURO_FE          545604 non-null  object\n",
            "dtypes: int64(2), object(29)\n",
            "memory usage: 133.2+ MB\n"
          ],
          "name": "stdout"
        }
      ]
    },
    {
      "cell_type": "code",
      "metadata": {
        "id": "Vs3WIw7vJkTy"
      },
      "source": [
        "def TIEMPO_EDAD_FE_ANIO(x) :\r\n",
        "    if (x==\"AÑOS\"):\r\n",
        "      return 3.154e+7\r\n",
        "    if (x==\"MESES\"):\r\n",
        "      return 2.628e+6\r\n",
        "    if (x==\"HORAS\"):\r\n",
        "      return 3600\r\n",
        "    if (x==\"MINUTOS\"):\r\n",
        "      return 60\r\n",
        "    if (x==\"SEGUNDOS\"):\r\n",
        "      return 1           "
      ],
      "execution_count": 12,
      "outputs": []
    },
    {
      "cell_type": "code",
      "metadata": {
        "id": "IR6qPuE4Jk4v"
      },
      "source": [
        "fal_sin[\"factor\"]=fal_sin[\"TIEMPO EDAD\"].apply(TIEMPO_EDAD_FE_ANIO)"
      ],
      "execution_count": 13,
      "outputs": []
    },
    {
      "cell_type": "code",
      "metadata": {
        "id": "SKrOsZfpJk8J"
      },
      "source": [
        ""
      ],
      "execution_count": 13,
      "outputs": []
    },
    {
      "cell_type": "code",
      "metadata": {
        "id": "M0-AVYwSAeef"
      },
      "source": [
        "fal_sin[fal_sin[\"EDAD\"]==\"SIN REGISTRO\"]=str(fal_sin.loc[fal_sin[\"EDAD\"]!=\"SIN REGISTRO\",\"EDAD\"].astype(int).mean())"
      ],
      "execution_count": 14,
      "outputs": []
    },
    {
      "cell_type": "code",
      "metadata": {
        "id": "KVqgFoKkBEo4"
      },
      "source": [
        "fal_sin[\"EDAD\"]=fal_sin[\"EDAD\"].astype(float).astype(int)"
      ],
      "execution_count": 15,
      "outputs": []
    },
    {
      "cell_type": "code",
      "metadata": {
        "colab": {
          "base_uri": "https://localhost:8080/"
        },
        "id": "7v8GQmO-FGeb",
        "outputId": "3fe98a9a-8b2a-4fe3-badb-bc1662ff0ead"
      },
      "source": [
        "fal_sin[\"EDAD\"].describe()"
      ],
      "execution_count": 16,
      "outputs": [
        {
          "output_type": "execute_result",
          "data": {
            "text/plain": [
              "count    545604.000000\n",
              "mean         66.322762\n",
              "std          23.444020\n",
              "min           0.000000\n",
              "25%          55.000000\n",
              "50%          72.000000\n",
              "75%          83.000000\n",
              "max        3017.000000\n",
              "Name: EDAD, dtype: float64"
            ]
          },
          "metadata": {
            "tags": []
          },
          "execution_count": 16
        }
      ]
    },
    {
      "cell_type": "code",
      "metadata": {
        "id": "qgOi8deNAehp"
      },
      "source": [
        "fal_sin[\"TIEMPO_SEG\"]=fal_sin[\"EDAD\"]*fal_sin[\"factor\"]"
      ],
      "execution_count": 17,
      "outputs": []
    },
    {
      "cell_type": "code",
      "metadata": {
        "colab": {
          "base_uri": "https://localhost:8080/"
        },
        "id": "3_BHL-VKAel8",
        "outputId": "75b5e8e2-bce0-4419-a8d3-2092a8abcf41"
      },
      "source": [
        "fal_sin[\"TIEMPO_SEG\"]"
      ],
      "execution_count": 18,
      "outputs": [
        {
          "output_type": "execute_result",
          "data": {
            "text/plain": [
              "0          1.2616e+08\n",
              "1         2.71244e+09\n",
              "2         1.19852e+09\n",
              "3         2.01856e+09\n",
              "4           6.308e+08\n",
              "             ...     \n",
              "546006    2.58628e+09\n",
              "546007    2.27088e+09\n",
              "546008    2.71244e+09\n",
              "546009    2.80706e+09\n",
              "546010          21600\n",
              "Name: TIEMPO_SEG, Length: 545604, dtype: object"
            ]
          },
          "metadata": {
            "tags": []
          },
          "execution_count": 18
        }
      ]
    },
    {
      "cell_type": "code",
      "metadata": {
        "id": "kFp6pSMa7VYt"
      },
      "source": [
        "fal_sin.loc[(fal_sin[\"DEBIDO A (CAUSA A)\"].str.contains(\"covid\", case=False)) |\r\n",
        "        (fal_sin[\"DEBIDO A (CAUSA B)\"].str.contains(\"covid\", case=False)) |\r\n",
        "        (fal_sin[\"DEBIDO A (CAUSA C)\"].str.contains(\"covid\", case=False)) |\r\n",
        "        (fal_sin[\"DEBIDO A (CAUSA D)\"].str.contains(\"covid\", case=False)) |\r\n",
        "        (fal_sin[\"DEBIDO A (CAUSA E)\"].str.contains(\"covid\", case=False)) |\r\n",
        "        (fal_sin[\"DEBIDO A (CAUSA F)\"].str.contains(\"covid\", case=False)) ,\"Target\"]=1\r\n",
        "                "
      ],
      "execution_count": 19,
      "outputs": []
    },
    {
      "cell_type": "code",
      "metadata": {
        "id": "KVjQClDF7VbX"
      },
      "source": [
        "fal_sin[\"Target\"]=fal_sin[\"Target\"].fillna(0)"
      ],
      "execution_count": 20,
      "outputs": []
    },
    {
      "cell_type": "code",
      "metadata": {
        "colab": {
          "base_uri": "https://localhost:8080/"
        },
        "id": "EXl3dJMtQh4r",
        "outputId": "a1e8808e-fca4-4f75-b034-2db2df35cc17"
      },
      "source": [
        "fal_sin[\"Target\"]"
      ],
      "execution_count": 21,
      "outputs": [
        {
          "output_type": "execute_result",
          "data": {
            "text/plain": [
              "0         0.0\n",
              "1         0.0\n",
              "2         0.0\n",
              "3         0.0\n",
              "4         0.0\n",
              "         ... \n",
              "546006    1.0\n",
              "546007    1.0\n",
              "546008    0.0\n",
              "546009    0.0\n",
              "546010    0.0\n",
              "Name: Target, Length: 545604, dtype: float64"
            ]
          },
          "metadata": {
            "tags": []
          },
          "execution_count": 21
        }
      ]
    },
    {
      "cell_type": "code",
      "metadata": {
        "colab": {
          "base_uri": "https://localhost:8080/"
        },
        "id": "gtZVtrYsSSji",
        "outputId": "dea8be9b-0049-4ec1-b50f-f8589d4dacd1"
      },
      "source": [
        "fal_sin.columns"
      ],
      "execution_count": 22,
      "outputs": [
        {
          "output_type": "execute_result",
          "data": {
            "text/plain": [
              "Index(['TIPO SEGURO', 'SEXO', 'EDAD', 'TIEMPO EDAD', 'ESTADO CIVIL',\n",
              "       'NIVEL DE INSTRUCCIÓN', 'COD# UBIGEO DOMICILIO', 'PAIS DOMICILIO',\n",
              "       'DEPARTAMENTO DOMICILIO', 'PROVINCIA DOMICILIO', 'DISTRITO DOMICILIO',\n",
              "       'FECHA', 'AÑO', 'MES', 'TIPO LUGAR', 'INSTITUCION', 'MUERTE VIOLENTA',\n",
              "       'NECROPSIA', 'DEBIDO A (CAUSA A)', 'CAUSA A (CIE-X)',\n",
              "       'DEBIDO A (CAUSA B)', 'CAUSA B (CIE-X)', 'DEBIDO A (CAUSA C)',\n",
              "       'CAUSA C (CIE-X)', 'DEBIDO A (CAUSA D)', 'CAUSA D (CIE-X)',\n",
              "       'DEBIDO A (CAUSA E)', 'CAUSA E (CIE-X)', 'DEBIDO A (CAUSA F)',\n",
              "       'CAUSA F (CIE-X)', 'TIPO SEGURO_FE', 'factor', 'TIEMPO_SEG', 'Target'],\n",
              "      dtype='object')"
            ]
          },
          "metadata": {
            "tags": []
          },
          "execution_count": 22
        }
      ]
    },
    {
      "cell_type": "code",
      "metadata": {
        "colab": {
          "base_uri": "https://localhost:8080/"
        },
        "id": "6Cm6muYHyqIX",
        "outputId": "5c824eac-00a8-4de4-aa46-c685d1fd44b1"
      },
      "source": [
        "fal_sin.info()"
      ],
      "execution_count": 23,
      "outputs": [
        {
          "output_type": "stream",
          "text": [
            "<class 'pandas.core.frame.DataFrame'>\n",
            "Int64Index: 545604 entries, 0 to 546010\n",
            "Data columns (total 34 columns):\n",
            " #   Column                  Non-Null Count   Dtype  \n",
            "---  ------                  --------------   -----  \n",
            " 0   TIPO SEGURO             545604 non-null  object \n",
            " 1   SEXO                    545604 non-null  object \n",
            " 2   EDAD                    545604 non-null  int64  \n",
            " 3   TIEMPO EDAD             545604 non-null  object \n",
            " 4   ESTADO CIVIL            545604 non-null  object \n",
            " 5   NIVEL DE INSTRUCCIÓN    545604 non-null  object \n",
            " 6   COD# UBIGEO DOMICILIO   545604 non-null  object \n",
            " 7   PAIS DOMICILIO          545604 non-null  object \n",
            " 8   DEPARTAMENTO DOMICILIO  545604 non-null  object \n",
            " 9   PROVINCIA DOMICILIO     545604 non-null  object \n",
            " 10  DISTRITO DOMICILIO      545604 non-null  object \n",
            " 11  FECHA                   545604 non-null  object \n",
            " 12  AÑO                     545604 non-null  object \n",
            " 13  MES                     545604 non-null  object \n",
            " 14  TIPO LUGAR              545604 non-null  object \n",
            " 15  INSTITUCION             545604 non-null  object \n",
            " 16  MUERTE VIOLENTA         545604 non-null  object \n",
            " 17  NECROPSIA               545604 non-null  object \n",
            " 18  DEBIDO A (CAUSA A)      545604 non-null  object \n",
            " 19  CAUSA A (CIE-X)         545604 non-null  object \n",
            " 20  DEBIDO A (CAUSA B)      545604 non-null  object \n",
            " 21  CAUSA B (CIE-X)         545604 non-null  object \n",
            " 22  DEBIDO A (CAUSA C)      545604 non-null  object \n",
            " 23  CAUSA C (CIE-X)         545604 non-null  object \n",
            " 24  DEBIDO A (CAUSA D)      545604 non-null  object \n",
            " 25  CAUSA D (CIE-X)         545604 non-null  object \n",
            " 26  DEBIDO A (CAUSA E)      545604 non-null  object \n",
            " 27  CAUSA E (CIE-X)         545604 non-null  object \n",
            " 28  DEBIDO A (CAUSA F)      545604 non-null  object \n",
            " 29  CAUSA F (CIE-X)         545604 non-null  object \n",
            " 30  TIPO SEGURO_FE          545604 non-null  object \n",
            " 31  factor                  538066 non-null  object \n",
            " 32  TIEMPO_SEG              538066 non-null  object \n",
            " 33  Target                  545604 non-null  float64\n",
            "dtypes: float64(1), int64(1), object(32)\n",
            "memory usage: 145.7+ MB\n"
          ],
          "name": "stdout"
        }
      ]
    },
    {
      "cell_type": "code",
      "metadata": {
        "id": "UQxthHqhS267"
      },
      "source": [
        "data_weka=fal_sin[['TIPO SEGURO', \r\n",
        "'SEXO', \r\n",
        "'ESTADO CIVIL',\r\n",
        "'NIVEL DE INSTRUCCIÓN', \r\n",
        "'TIPO SEGURO_FE', \r\n",
        "'TIEMPO_SEG',\r\n",
        "'PAIS DOMICILIO',\r\n",
        "'DEPARTAMENTO DOMICILIO', \r\n",
        "'PROVINCIA DOMICILIO', \r\n",
        "'DISTRITO DOMICILIO',\r\n",
        "'AÑO', \r\n",
        "'MES', \r\n",
        "'TIPO LUGAR', \r\n",
        "'INSTITUCION', \r\n",
        "'MUERTE VIOLENTA',\r\n",
        "'NECROPSIA', \r\n",
        "'Target']]"
      ],
      "execution_count": 26,
      "outputs": []
    },
    {
      "cell_type": "code",
      "metadata": {
        "id": "hVxTW6i4y2fF"
      },
      "source": [
        "data_weka.to_csv(\"fallecidos_procesado.csv\")"
      ],
      "execution_count": 27,
      "outputs": []
    },
    {
      "cell_type": "code",
      "metadata": {
        "id": "esgd8OOJy6lv"
      },
      "source": [
        ""
      ],
      "execution_count": null,
      "outputs": []
    }
  ]
}