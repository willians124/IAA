{
  "nbformat": 4,
  "nbformat_minor": 0,
  "metadata": {
    "colab": {
      "name": "Fallecidos_Sinadef.ipynb",
      "provenance": [],
      "toc_visible": true
    },
    "kernelspec": {
      "name": "python3",
      "display_name": "Python 3"
    }
  },
  "cells": [
    {
      "cell_type": "markdown",
      "metadata": {
        "id": "aQqPQVTk7oxf"
      },
      "source": [
        "#**INTELIGENCIA ARTIFICIAL AVANZADA 2PC**\r\n",
        "#**DATA FALLECIDOS SINADEF**\r\n"
      ]
    },
    {
      "cell_type": "code",
      "metadata": {
        "id": "RrZtpmFq7VWO"
      },
      "source": [
        "import pandas as pd"
      ],
      "execution_count": 33,
      "outputs": []
    },
    {
      "cell_type": "code",
      "metadata": {
        "colab": {
          "base_uri": "https://localhost:8080/"
        },
        "id": "ANTYZFu77s61",
        "outputId": "4d2691dc-d659-4325-ad34-392ba0d347f8"
      },
      "source": [
        "fal_sin=pd.read_csv(\"/content/fallecidos_sinadef.csv\", sep=';' , encoding='latin-1',header=2).iloc[:,1:-4]"
      ],
      "execution_count": 34,
      "outputs": [
        {
          "output_type": "stream",
          "text": [
            "/usr/local/lib/python3.6/dist-packages/IPython/core/interactiveshell.py:2718: DtypeWarning: Columns (3) have mixed types.Specify dtype option on import or set low_memory=False.\n",
            "  interactivity=interactivity, compiler=compiler, result=result)\n"
          ],
          "name": "stderr"
        }
      ]
    },
    {
      "cell_type": "code",
      "metadata": {
        "colab": {
          "base_uri": "https://localhost:8080/",
          "height": 517
        },
        "id": "Dwp2dwWWAhYK",
        "outputId": "c067ff23-b073-4d90-d418-7df438b99e71"
      },
      "source": [
        "fal_sin.head()"
      ],
      "execution_count": 35,
      "outputs": [
        {
          "output_type": "execute_result",
          "data": {
            "text/html": [
              "<div>\n",
              "<style scoped>\n",
              "    .dataframe tbody tr th:only-of-type {\n",
              "        vertical-align: middle;\n",
              "    }\n",
              "\n",
              "    .dataframe tbody tr th {\n",
              "        vertical-align: top;\n",
              "    }\n",
              "\n",
              "    .dataframe thead th {\n",
              "        text-align: right;\n",
              "    }\n",
              "</style>\n",
              "<table border=\"1\" class=\"dataframe\">\n",
              "  <thead>\n",
              "    <tr style=\"text-align: right;\">\n",
              "      <th></th>\n",
              "      <th>TIPO SEGURO</th>\n",
              "      <th>SEXO</th>\n",
              "      <th>EDAD</th>\n",
              "      <th>TIEMPO EDAD</th>\n",
              "      <th>ESTADO CIVIL</th>\n",
              "      <th>NIVEL DE INSTRUCCIÓN</th>\n",
              "      <th>COD# UBIGEO DOMICILIO</th>\n",
              "      <th>PAIS DOMICILIO</th>\n",
              "      <th>DEPARTAMENTO DOMICILIO</th>\n",
              "      <th>PROVINCIA DOMICILIO</th>\n",
              "      <th>DISTRITO DOMICILIO</th>\n",
              "      <th>FECHA</th>\n",
              "      <th>AÑO</th>\n",
              "      <th>MES</th>\n",
              "      <th>TIPO LUGAR</th>\n",
              "      <th>INSTITUCION</th>\n",
              "      <th>MUERTE VIOLENTA</th>\n",
              "      <th>NECROPSIA</th>\n",
              "      <th>DEBIDO A (CAUSA A)</th>\n",
              "      <th>CAUSA A (CIE-X)</th>\n",
              "      <th>DEBIDO A (CAUSA B)</th>\n",
              "      <th>CAUSA B (CIE-X)</th>\n",
              "      <th>DEBIDO A (CAUSA C)</th>\n",
              "      <th>CAUSA C (CIE-X)</th>\n",
              "      <th>DEBIDO A (CAUSA D)</th>\n",
              "      <th>CAUSA D (CIE-X)</th>\n",
              "      <th>DEBIDO A (CAUSA E)</th>\n",
              "      <th>CAUSA E (CIE-X)</th>\n",
              "      <th>DEBIDO A (CAUSA F)</th>\n",
              "      <th>CAUSA F (CIE-X)</th>\n",
              "    </tr>\n",
              "  </thead>\n",
              "  <tbody>\n",
              "    <tr>\n",
              "      <th>0</th>\n",
              "      <td>SIS</td>\n",
              "      <td>MASCULINO</td>\n",
              "      <td>4</td>\n",
              "      <td>AÑOS</td>\n",
              "      <td>SOLTERO</td>\n",
              "      <td>IGNORADO</td>\n",
              "      <td>92-33-21-04-01-000</td>\n",
              "      <td>PERU</td>\n",
              "      <td>SAN MARTIN</td>\n",
              "      <td>MARISCAL CACERES</td>\n",
              "      <td>JUANJUI</td>\n",
              "      <td>2020-01-17</td>\n",
              "      <td>2020</td>\n",
              "      <td>1</td>\n",
              "      <td>EESS</td>\n",
              "      <td>GOBIERNO REGIONAL</td>\n",
              "      <td>SIN REGISTRO</td>\n",
              "      <td>NO SE REALIZÓ NECROPSIA</td>\n",
              "      <td>INSUFICIENCIA RESPIRATORIA AGUDA</td>\n",
              "      <td>J960</td>\n",
              "      <td>NEUMONIA SEVERA</td>\n",
              "      <td>J159</td>\n",
              "      <td>SIN REGISTRO</td>\n",
              "      <td>SIN REGISTRO</td>\n",
              "      <td>SIN REGISTRO</td>\n",
              "      <td>SIN REGISTRO</td>\n",
              "      <td>PARALISIS CEREBRAL INFANTIL</td>\n",
              "      <td>G809</td>\n",
              "      <td>SIN REGISTRO</td>\n",
              "      <td>SIN REGISTRO</td>\n",
              "    </tr>\n",
              "    <tr>\n",
              "      <th>1</th>\n",
              "      <td>SIS</td>\n",
              "      <td>FEMENINO</td>\n",
              "      <td>86</td>\n",
              "      <td>AÑOS</td>\n",
              "      <td>SOLTERO</td>\n",
              "      <td>PRIMARIA INCOMPLETA</td>\n",
              "      <td>92-33-21-03-13-000</td>\n",
              "      <td>PERU</td>\n",
              "      <td>SAN MARTIN</td>\n",
              "      <td>LAMAS</td>\n",
              "      <td>TABALOSOS</td>\n",
              "      <td>2020-01-03</td>\n",
              "      <td>2020</td>\n",
              "      <td>1</td>\n",
              "      <td>DOMICILIO</td>\n",
              "      <td>SIN REGISTRO</td>\n",
              "      <td>SIN REGISTRO</td>\n",
              "      <td>NO SE REALIZÓ NECROPSIA</td>\n",
              "      <td>INFARTO AGUDO DEL MIOCARDIO SIN OTRA ESPECIFIC...</td>\n",
              "      <td>I219</td>\n",
              "      <td>HIPERLIPIDEMIA NO ESPECIFICADA</td>\n",
              "      <td>E785</td>\n",
              "      <td>ATEROSCLEROSIS GENERALIZADA Y LA NO ESPECIFICADA</td>\n",
              "      <td>I709</td>\n",
              "      <td>HIPERTENSION ESENCIAL</td>\n",
              "      <td>I10X</td>\n",
              "      <td>SIN REGISTRO</td>\n",
              "      <td>SIN REGISTRO</td>\n",
              "      <td>SIN REGISTRO</td>\n",
              "      <td>SIN REGISTRO</td>\n",
              "    </tr>\n",
              "    <tr>\n",
              "      <th>2</th>\n",
              "      <td>IGNORADO</td>\n",
              "      <td>MASCULINO</td>\n",
              "      <td>38</td>\n",
              "      <td>AÑOS</td>\n",
              "      <td>IGNORADO</td>\n",
              "      <td>IGNORADO</td>\n",
              "      <td>93-32-00-00-00-000</td>\n",
              "      <td>FILIPINAS</td>\n",
              "      <td>EXTRANJERO</td>\n",
              "      <td>EXTRANJERO</td>\n",
              "      <td>EXTRANJERO</td>\n",
              "      <td>2020-01-19</td>\n",
              "      <td>2020</td>\n",
              "      <td>1</td>\n",
              "      <td>OTRO</td>\n",
              "      <td>SIN REGISTRO</td>\n",
              "      <td>SIN REGISTRO</td>\n",
              "      <td>SI SE REALIZÓ NECROPSIA</td>\n",
              "      <td>EDEMA Y CONGESTION CEREBRAL Y PULMONAR</td>\n",
              "      <td>SIN REGISTRO</td>\n",
              "      <td>SIN REGISTRO</td>\n",
              "      <td>SIN REGISTRO</td>\n",
              "      <td>SIN REGISTRO</td>\n",
              "      <td>SIN REGISTRO</td>\n",
              "      <td>SIN REGISTRO</td>\n",
              "      <td>SIN REGISTRO</td>\n",
              "      <td>SIN REGISTRO</td>\n",
              "      <td>SIN REGISTRO</td>\n",
              "      <td>SIN REGISTRO</td>\n",
              "      <td>SIN REGISTRO</td>\n",
              "    </tr>\n",
              "    <tr>\n",
              "      <th>3</th>\n",
              "      <td>USUARIO</td>\n",
              "      <td>FEMENINO</td>\n",
              "      <td>64</td>\n",
              "      <td>AÑOS</td>\n",
              "      <td>SOLTERO</td>\n",
              "      <td>PRIMARIA COMPLETA</td>\n",
              "      <td>92-33-14-01-37-000</td>\n",
              "      <td>PERU</td>\n",
              "      <td>LIMA</td>\n",
              "      <td>LIMA</td>\n",
              "      <td>SAN JUAN DE LURIGANCHO</td>\n",
              "      <td>2020-01-06</td>\n",
              "      <td>2020</td>\n",
              "      <td>1</td>\n",
              "      <td>DOMICILIO</td>\n",
              "      <td>SIN REGISTRO</td>\n",
              "      <td>SIN REGISTRO</td>\n",
              "      <td>SI SE REALIZÓ NECROPSIA</td>\n",
              "      <td>TUBERCULOSIS PULMONAR</td>\n",
              "      <td>SIN REGISTRO</td>\n",
              "      <td>SIN REGISTRO</td>\n",
              "      <td>SIN REGISTRO</td>\n",
              "      <td>SIN REGISTRO</td>\n",
              "      <td>SIN REGISTRO</td>\n",
              "      <td>SIN REGISTRO</td>\n",
              "      <td>SIN REGISTRO</td>\n",
              "      <td>SIN REGISTRO</td>\n",
              "      <td>SIN REGISTRO</td>\n",
              "      <td>SIN REGISTRO</td>\n",
              "      <td>SIN REGISTRO</td>\n",
              "    </tr>\n",
              "    <tr>\n",
              "      <th>4</th>\n",
              "      <td>IGNORADO</td>\n",
              "      <td>MASCULINO</td>\n",
              "      <td>20</td>\n",
              "      <td>AÑOS</td>\n",
              "      <td>SOLTERO</td>\n",
              "      <td>IGNORADO</td>\n",
              "      <td>92-33-24-01-02-000</td>\n",
              "      <td>PERU</td>\n",
              "      <td>CALLAO</td>\n",
              "      <td>CALLAO</td>\n",
              "      <td>BELLAVISTA</td>\n",
              "      <td>2020-01-13</td>\n",
              "      <td>2020</td>\n",
              "      <td>1</td>\n",
              "      <td>EESS</td>\n",
              "      <td>GOBIERNO REGIONAL</td>\n",
              "      <td>HOMICIDIO</td>\n",
              "      <td>SI SE REALIZÓ NECROPSIA</td>\n",
              "      <td>SHOCK HIPOVOLEMICO</td>\n",
              "      <td>SIN REGISTRO</td>\n",
              "      <td>TAPONAMIENTO CARDIACO</td>\n",
              "      <td>SIN REGISTRO</td>\n",
              "      <td>TRAUMA TORACICO ABIERTO POR PROYECTIL DE ARMA ...</td>\n",
              "      <td>SIN REGISTRO</td>\n",
              "      <td>SIN REGISTRO</td>\n",
              "      <td>SIN REGISTRO</td>\n",
              "      <td>SIN REGISTRO</td>\n",
              "      <td>SIN REGISTRO</td>\n",
              "      <td>SIN REGISTRO</td>\n",
              "      <td>SIN REGISTRO</td>\n",
              "    </tr>\n",
              "  </tbody>\n",
              "</table>\n",
              "</div>"
            ],
            "text/plain": [
              "  TIPO SEGURO       SEXO  ... DEBIDO A (CAUSA F) CAUSA F (CIE-X)\n",
              "0         SIS  MASCULINO  ...       SIN REGISTRO    SIN REGISTRO\n",
              "1         SIS   FEMENINO  ...       SIN REGISTRO    SIN REGISTRO\n",
              "2    IGNORADO  MASCULINO  ...       SIN REGISTRO    SIN REGISTRO\n",
              "3     USUARIO   FEMENINO  ...       SIN REGISTRO    SIN REGISTRO\n",
              "4    IGNORADO  MASCULINO  ...       SIN REGISTRO    SIN REGISTRO\n",
              "\n",
              "[5 rows x 30 columns]"
            ]
          },
          "metadata": {
            "tags": []
          },
          "execution_count": 35
        }
      ]
    },
    {
      "cell_type": "code",
      "metadata": {
        "colab": {
          "base_uri": "https://localhost:8080/"
        },
        "id": "Hdbvt7i58Tj1",
        "outputId": "958a4fc4-ef73-45aa-9efa-39096e8c5473"
      },
      "source": [
        "fal_sin[\"TIPO SEGURO\"].value_counts(dropna=False)"
      ],
      "execution_count": 36,
      "outputs": [
        {
          "output_type": "execute_result",
          "data": {
            "text/plain": [
              "SIS              253923\n",
              "ESSALUD          156001\n",
              "IGNORADO          94457\n",
              "USUARIO            9863\n",
              "OTROS              9504\n",
              "PRIVADOS           8699\n",
              "SANIDAD PNP        8361\n",
              "SANIDAD NAVAL      1533\n",
              "SANIDAD EP         1377\n",
              "SANIDAD FAP        1363\n",
              "EXONERADO           900\n",
              "SOAT                 29\n",
              "SIN REGISTRO          1\n",
              "Name: TIPO SEGURO, dtype: int64"
            ]
          },
          "metadata": {
            "tags": []
          },
          "execution_count": 36
        }
      ]
    },
    {
      "cell_type": "code",
      "metadata": {
        "id": "b6AUZ6Di9iZV"
      },
      "source": [
        "def  TIPO_SEGURO_FE(x):\r\n",
        "    if(x==\"SANIDAD PNP\"):\r\n",
        "      return \"SANIDAD\"\r\n",
        "    if(x==\"SANIDAD NAVAL\"):\r\n",
        "      return \"SANIDAD\"\r\n",
        "    if(x==\"SANIDAD EP\"):\r\n",
        "      return \"SANIDAD\"\r\n",
        "    if(x==\"SANIDAD FAP\"):\r\n",
        "      return \"SANIDAD\"\r\n",
        "    if(x==\"SOAT\"):\r\n",
        "      return \"PRIVADOS\"\r\n",
        "    if(x==\"SIS\"):\r\n",
        "      return \"PUBLICO\"\r\n",
        "    if(x==\"ESSALUD\"):\r\n",
        "      return \"PUBLICO\"\r\n",
        "    return \"OTROS\""
      ],
      "execution_count": 37,
      "outputs": []
    },
    {
      "cell_type": "code",
      "metadata": {
        "id": "NvoTyeRG7tBV"
      },
      "source": [
        "fal_sin[\"TIPO SEGURO_FE\"]=fal_sin[\"TIPO SEGURO\"].apply(TIPO_SEGURO_FE)"
      ],
      "execution_count": 38,
      "outputs": []
    },
    {
      "cell_type": "code",
      "metadata": {
        "colab": {
          "base_uri": "https://localhost:8080/"
        },
        "id": "8UD_Nxje7tEZ",
        "outputId": "59c60a12-fc35-4f66-b4ee-3b5fb3381a3f"
      },
      "source": [
        "fal_sin[\"TIPO SEGURO_FE\"].value_counts()"
      ],
      "execution_count": 39,
      "outputs": [
        {
          "output_type": "execute_result",
          "data": {
            "text/plain": [
              "PUBLICO     409924\n",
              "OTROS       123424\n",
              "SANIDAD      12634\n",
              "PRIVADOS        29\n",
              "Name: TIPO SEGURO_FE, dtype: int64"
            ]
          },
          "metadata": {
            "tags": []
          },
          "execution_count": 39
        }
      ]
    },
    {
      "cell_type": "code",
      "metadata": {
        "colab": {
          "base_uri": "https://localhost:8080/"
        },
        "id": "qfB4JKgE7tGk",
        "outputId": "7fa31a35-3902-4783-ead8-72e35d6766f3"
      },
      "source": [
        "fal_sin[\"SEXO\"].value_counts(dropna=False)"
      ],
      "execution_count": 40,
      "outputs": [
        {
          "output_type": "execute_result",
          "data": {
            "text/plain": [
              "MASCULINO        306169\n",
              "FEMENINO         239771\n",
              "INDETERMINADO        67\n",
              "SIN REGISTRO          4\n",
              "Name: SEXO, dtype: int64"
            ]
          },
          "metadata": {
            "tags": []
          },
          "execution_count": 40
        }
      ]
    },
    {
      "cell_type": "code",
      "metadata": {
        "colab": {
          "base_uri": "https://localhost:8080/"
        },
        "id": "A3hiK0zfGwxu",
        "outputId": "7d7f960c-dc65-4230-8b0d-437ec802de57"
      },
      "source": [
        "fal_sin[\"TIEMPO EDAD\"].value_counts(dropna=False)"
      ],
      "execution_count": 41,
      "outputs": [
        {
          "output_type": "execute_result",
          "data": {
            "text/plain": [
              "AÑOS            527537\n",
              "DIAS              7541\n",
              "MESES             7047\n",
              "HORAS             2641\n",
              "MINUTOS            805\n",
              "IGNORADO           269\n",
              "SIN REGISTRO       138\n",
              "SEGUNDOS            33\n",
              "Name: TIEMPO EDAD, dtype: int64"
            ]
          },
          "metadata": {
            "tags": []
          },
          "execution_count": 41
        }
      ]
    },
    {
      "cell_type": "code",
      "metadata": {
        "colab": {
          "base_uri": "https://localhost:8080/"
        },
        "id": "kyV7oPZXJIQT",
        "outputId": "cebaa8d6-a745-4723-f32f-785b2c826d00"
      },
      "source": [
        "fal_sin[\"TIEMPO EDAD\"].value_counts()"
      ],
      "execution_count": 42,
      "outputs": [
        {
          "output_type": "execute_result",
          "data": {
            "text/plain": [
              "AÑOS            527537\n",
              "DIAS              7541\n",
              "MESES             7047\n",
              "HORAS             2641\n",
              "MINUTOS            805\n",
              "IGNORADO           269\n",
              "SIN REGISTRO       138\n",
              "SEGUNDOS            33\n",
              "Name: TIEMPO EDAD, dtype: int64"
            ]
          },
          "metadata": {
            "tags": []
          },
          "execution_count": 42
        }
      ]
    },
    {
      "cell_type": "code",
      "metadata": {
        "id": "Vs3WIw7vJkTy"
      },
      "source": [
        "def TIEMPO_EDAD_FE_ANIO(x) :\r\n",
        "    if (x==\"AÑOS\"):\r\n",
        "      return 1\r\n",
        "    else:\r\n",
        "      return 0           "
      ],
      "execution_count": 44,
      "outputs": []
    },
    {
      "cell_type": "code",
      "metadata": {
        "id": "IR6qPuE4Jk4v"
      },
      "source": [
        "fal_sin[\"factor\"]=fal_sin[\"TIEMPO EDAD\"].apply(TIEMPO_EDAD_FE_ANIO)"
      ],
      "execution_count": 45,
      "outputs": []
    },
    {
      "cell_type": "code",
      "metadata": {
        "id": "M0-AVYwSAeef"
      },
      "source": [
        "fal_sin[fal_sin[\"EDAD\"]==\"SIN REGISTRO\"]=str(fal_sin.loc[fal_sin[\"EDAD\"]!=\"SIN REGISTRO\",\"EDAD\"].astype(int).mean())"
      ],
      "execution_count": 46,
      "outputs": []
    },
    {
      "cell_type": "code",
      "metadata": {
        "id": "KVqgFoKkBEo4"
      },
      "source": [
        "fal_sin[\"EDAD\"]=fal_sin[\"EDAD\"].astype(float).astype(int)"
      ],
      "execution_count": 47,
      "outputs": []
    },
    {
      "cell_type": "code",
      "metadata": {
        "colab": {
          "base_uri": "https://localhost:8080/"
        },
        "id": "7v8GQmO-FGeb",
        "outputId": "216b2413-2378-4d54-f2d3-ec7d82e62ab3"
      },
      "source": [
        "fal_sin[\"EDAD\"].describe()"
      ],
      "execution_count": 48,
      "outputs": [
        {
          "output_type": "execute_result",
          "data": {
            "text/plain": [
              "count    546011.000000\n",
              "mean         66.322334\n",
              "std          23.435579\n",
              "min           0.000000\n",
              "25%          55.000000\n",
              "50%          72.000000\n",
              "75%          83.000000\n",
              "max        3017.000000\n",
              "Name: EDAD, dtype: float64"
            ]
          },
          "metadata": {
            "tags": []
          },
          "execution_count": 48
        }
      ]
    },
    {
      "cell_type": "code",
      "metadata": {
        "id": "qgOi8deNAehp"
      },
      "source": [
        "fal_sin[\"TIEMPO\"]=fal_sin[\"EDAD\"]*fal_sin[\"factor\"]"
      ],
      "execution_count": 49,
      "outputs": []
    },
    {
      "cell_type": "code",
      "metadata": {
        "colab": {
          "base_uri": "https://localhost:8080/"
        },
        "id": "3_BHL-VKAel8",
        "outputId": "a31c8af4-6895-4add-e9aa-39058491644e"
      },
      "source": [
        "fal_sin[\"TIEMPO\"]"
      ],
      "execution_count": 50,
      "outputs": [
        {
          "output_type": "execute_result",
          "data": {
            "text/plain": [
              "0          4\n",
              "1         86\n",
              "2         38\n",
              "3         64\n",
              "4         20\n",
              "          ..\n",
              "546006    82\n",
              "546007    72\n",
              "546008    86\n",
              "546009    89\n",
              "546010     0\n",
              "Name: TIEMPO, Length: 546011, dtype: object"
            ]
          },
          "metadata": {
            "tags": []
          },
          "execution_count": 50
        }
      ]
    },
    {
      "cell_type": "code",
      "metadata": {
        "id": "kFp6pSMa7VYt"
      },
      "source": [
        "fal_sin.loc[(fal_sin[\"DEBIDO A (CAUSA A)\"].str.contains(\"covid\", case=False)) |\r\n",
        "        (fal_sin[\"DEBIDO A (CAUSA B)\"].str.contains(\"covid\", case=False)) |\r\n",
        "        (fal_sin[\"DEBIDO A (CAUSA C)\"].str.contains(\"covid\", case=False)) |\r\n",
        "        (fal_sin[\"DEBIDO A (CAUSA D)\"].str.contains(\"covid\", case=False)) |\r\n",
        "        (fal_sin[\"DEBIDO A (CAUSA E)\"].str.contains(\"covid\", case=False)) |\r\n",
        "        (fal_sin[\"DEBIDO A (CAUSA F)\"].str.contains(\"covid\", case=False)) ,\"Target\"]=1\r\n",
        "                "
      ],
      "execution_count": 51,
      "outputs": []
    },
    {
      "cell_type": "code",
      "metadata": {
        "id": "KVjQClDF7VbX"
      },
      "source": [
        "fal_sin[\"Target\"]=fal_sin[\"Target\"].fillna(0)"
      ],
      "execution_count": 52,
      "outputs": []
    },
    {
      "cell_type": "code",
      "metadata": {
        "colab": {
          "base_uri": "https://localhost:8080/"
        },
        "id": "EXl3dJMtQh4r",
        "outputId": "3f8da10d-8612-43aa-af9f-6495485f30ac"
      },
      "source": [
        "fal_sin[\"Target\"]"
      ],
      "execution_count": 53,
      "outputs": [
        {
          "output_type": "execute_result",
          "data": {
            "text/plain": [
              "0         0.0\n",
              "1         0.0\n",
              "2         0.0\n",
              "3         0.0\n",
              "4         0.0\n",
              "         ... \n",
              "546006    1.0\n",
              "546007    1.0\n",
              "546008    0.0\n",
              "546009    0.0\n",
              "546010    0.0\n",
              "Name: Target, Length: 546011, dtype: float64"
            ]
          },
          "metadata": {
            "tags": []
          },
          "execution_count": 53
        }
      ]
    },
    {
      "cell_type": "code",
      "metadata": {
        "colab": {
          "base_uri": "https://localhost:8080/"
        },
        "id": "gtZVtrYsSSji",
        "outputId": "f51921e7-1e8a-4bff-987d-0ac420691164"
      },
      "source": [
        "fal_sin.columns"
      ],
      "execution_count": 54,
      "outputs": [
        {
          "output_type": "execute_result",
          "data": {
            "text/plain": [
              "Index(['TIPO SEGURO', 'SEXO', 'EDAD', 'TIEMPO EDAD', 'ESTADO CIVIL',\n",
              "       'NIVEL DE INSTRUCCIÓN', 'COD# UBIGEO DOMICILIO', 'PAIS DOMICILIO',\n",
              "       'DEPARTAMENTO DOMICILIO', 'PROVINCIA DOMICILIO', 'DISTRITO DOMICILIO',\n",
              "       'FECHA', 'AÑO', 'MES', 'TIPO LUGAR', 'INSTITUCION', 'MUERTE VIOLENTA',\n",
              "       'NECROPSIA', 'DEBIDO A (CAUSA A)', 'CAUSA A (CIE-X)',\n",
              "       'DEBIDO A (CAUSA B)', 'CAUSA B (CIE-X)', 'DEBIDO A (CAUSA C)',\n",
              "       'CAUSA C (CIE-X)', 'DEBIDO A (CAUSA D)', 'CAUSA D (CIE-X)',\n",
              "       'DEBIDO A (CAUSA E)', 'CAUSA E (CIE-X)', 'DEBIDO A (CAUSA F)',\n",
              "       'CAUSA F (CIE-X)', 'TIPO SEGURO_FE', 'factor', 'TIEMPO', 'Target'],\n",
              "      dtype='object')"
            ]
          },
          "metadata": {
            "tags": []
          },
          "execution_count": 54
        }
      ]
    },
    {
      "cell_type": "code",
      "metadata": {
        "colab": {
          "base_uri": "https://localhost:8080/"
        },
        "id": "6Cm6muYHyqIX",
        "outputId": "c7063f16-38fd-47cc-fd0a-6f47899a1738"
      },
      "source": [
        "fal_sin.info()"
      ],
      "execution_count": 55,
      "outputs": [
        {
          "output_type": "stream",
          "text": [
            "<class 'pandas.core.frame.DataFrame'>\n",
            "RangeIndex: 546011 entries, 0 to 546010\n",
            "Data columns (total 34 columns):\n",
            " #   Column                  Non-Null Count   Dtype  \n",
            "---  ------                  --------------   -----  \n",
            " 0   TIPO SEGURO             546011 non-null  object \n",
            " 1   SEXO                    546011 non-null  object \n",
            " 2   EDAD                    546011 non-null  int64  \n",
            " 3   TIEMPO EDAD             546011 non-null  object \n",
            " 4   ESTADO CIVIL            546011 non-null  object \n",
            " 5   NIVEL DE INSTRUCCIÓN    546011 non-null  object \n",
            " 6   COD# UBIGEO DOMICILIO   546011 non-null  object \n",
            " 7   PAIS DOMICILIO          546011 non-null  object \n",
            " 8   DEPARTAMENTO DOMICILIO  546011 non-null  object \n",
            " 9   PROVINCIA DOMICILIO     546011 non-null  object \n",
            " 10  DISTRITO DOMICILIO      546011 non-null  object \n",
            " 11  FECHA                   546011 non-null  object \n",
            " 12  AÑO                     546011 non-null  object \n",
            " 13  MES                     546011 non-null  object \n",
            " 14  TIPO LUGAR              546011 non-null  object \n",
            " 15  INSTITUCION             546011 non-null  object \n",
            " 16  MUERTE VIOLENTA         546011 non-null  object \n",
            " 17  NECROPSIA               546011 non-null  object \n",
            " 18  DEBIDO A (CAUSA A)      546011 non-null  object \n",
            " 19  CAUSA A (CIE-X)         546011 non-null  object \n",
            " 20  DEBIDO A (CAUSA B)      546011 non-null  object \n",
            " 21  CAUSA B (CIE-X)         546011 non-null  object \n",
            " 22  DEBIDO A (CAUSA C)      546011 non-null  object \n",
            " 23  CAUSA C (CIE-X)         546011 non-null  object \n",
            " 24  DEBIDO A (CAUSA D)      546011 non-null  object \n",
            " 25  CAUSA D (CIE-X)         546011 non-null  object \n",
            " 26  DEBIDO A (CAUSA E)      546011 non-null  object \n",
            " 27  CAUSA E (CIE-X)         546011 non-null  object \n",
            " 28  DEBIDO A (CAUSA F)      546011 non-null  object \n",
            " 29  CAUSA F (CIE-X)         546011 non-null  object \n",
            " 30  TIPO SEGURO_FE          546011 non-null  object \n",
            " 31  factor                  546011 non-null  object \n",
            " 32  TIEMPO                  546011 non-null  object \n",
            " 33  Target                  546011 non-null  float64\n",
            "dtypes: float64(1), int64(1), object(32)\n",
            "memory usage: 141.6+ MB\n"
          ],
          "name": "stdout"
        }
      ]
    },
    {
      "cell_type": "code",
      "metadata": {
        "id": "UQxthHqhS267"
      },
      "source": [
        "data_weka=fal_sin[['TIPO SEGURO', \r\n",
        "'SEXO', \r\n",
        "'ESTADO CIVIL',\r\n",
        "'NIVEL DE INSTRUCCIÓN', \r\n",
        "'TIPO SEGURO_FE', \r\n",
        "'TIEMPO',\r\n",
        "'PAIS DOMICILIO',\r\n",
        "'DEPARTAMENTO DOMICILIO', \r\n",
        "'PROVINCIA DOMICILIO', \r\n",
        "'DISTRITO DOMICILIO',\r\n",
        "'AÑO', \r\n",
        "'MES', \r\n",
        "'TIPO LUGAR', \r\n",
        "'INSTITUCION', \r\n",
        "'MUERTE VIOLENTA',\r\n",
        "'NECROPSIA', \r\n",
        "'Target']]"
      ],
      "execution_count": 56,
      "outputs": []
    },
    {
      "cell_type": "code",
      "metadata": {
        "id": "hVxTW6i4y2fF"
      },
      "source": [
        "data_weka.to_csv(\"fallecidos_procesado.csv\")"
      ],
      "execution_count": 59,
      "outputs": []
    },
    {
      "cell_type": "code",
      "metadata": {
        "id": "esgd8OOJy6lv",
        "colab": {
          "base_uri": "https://localhost:8080/"
        },
        "outputId": "13e767c2-5f92-4f0b-a1e7-43013244803a"
      },
      "source": [
        "data_weka.isnull().sum()"
      ],
      "execution_count": 64,
      "outputs": [
        {
          "output_type": "execute_result",
          "data": {
            "text/plain": [
              "TIPO SEGURO               0\n",
              "SEXO                      0\n",
              "ESTADO CIVIL              0\n",
              "NIVEL DE INSTRUCCIÓN      0\n",
              "TIPO SEGURO_FE            0\n",
              "TIEMPO                    0\n",
              "PAIS DOMICILIO            0\n",
              "DEPARTAMENTO DOMICILIO    0\n",
              "PROVINCIA DOMICILIO       0\n",
              "DISTRITO DOMICILIO        0\n",
              "AÑO                       0\n",
              "MES                       0\n",
              "TIPO LUGAR                0\n",
              "INSTITUCION               0\n",
              "MUERTE VIOLENTA           0\n",
              "NECROPSIA                 0\n",
              "Target                    0\n",
              "dtype: int64"
            ]
          },
          "metadata": {
            "tags": []
          },
          "execution_count": 64
        }
      ]
    },
    {
      "cell_type": "code",
      "metadata": {
        "colab": {
          "base_uri": "https://localhost:8080/"
        },
        "id": "141rRWltIx9O",
        "outputId": "21db4597-717c-4d7c-c7ea-e98a79b88b70"
      },
      "source": [
        "data_weka[\"Target\"].value_counts(dropna=False)"
      ],
      "execution_count": 63,
      "outputs": [
        {
          "output_type": "execute_result",
          "data": {
            "text/plain": [
              "0.0    478398\n",
              "1.0     67613\n",
              "Name: Target, dtype: int64"
            ]
          },
          "metadata": {
            "tags": []
          },
          "execution_count": 63
        }
      ]
    },
    {
      "cell_type": "code",
      "metadata": {
        "id": "i3Fw0TbfKQQs"
      },
      "source": [
        ""
      ],
      "execution_count": null,
      "outputs": []
    }
  ]
}