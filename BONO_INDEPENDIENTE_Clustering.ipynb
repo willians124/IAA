{
  "nbformat": 4,
  "nbformat_minor": 0,
  "metadata": {
    "colab": {
      "name": "BONO INDEPENDIENTE.ipynb",
      "provenance": [],
      "toc_visible": true
    },
    "kernelspec": {
      "name": "python3",
      "display_name": "Python 3"
    }
  },
  "cells": [
    {
      "cell_type": "markdown",
      "metadata": {
        "id": "FsSYygM2y6QD"
      },
      "source": [
        "#**BONO INDEPENDIENTE (W)**\r\n",
        "\r\n",
        "\r\n"
      ]
    },
    {
      "cell_type": "code",
      "metadata": {
        "id": "43gM8-eBr2fB"
      },
      "source": [
        "import pandas as pd\r\n"
      ],
      "execution_count": 4,
      "outputs": []
    },
    {
      "cell_type": "code",
      "metadata": {
        "id": "m8DKkS1fyEdN"
      },
      "source": [
        "bono_ind=pd.read_csv(\"/content/bono_Independiente_trabajaperu.csv\", sep=',' , encoding='latin-1')"
      ],
      "execution_count": 5,
      "outputs": []
    },
    {
      "cell_type": "code",
      "metadata": {
        "colab": {
          "base_uri": "https://localhost:8080/",
          "height": 301
        },
        "id": "FgJyOyQZzOy_",
        "outputId": "722c71b2-2d91-498d-94d6-e3aebe0c1c90"
      },
      "source": [
        "bono_ind.head()"
      ],
      "execution_count": 6,
      "outputs": [
        {
          "output_type": "execute_result",
          "data": {
            "text/html": [
              "<div>\n",
              "<style scoped>\n",
              "    .dataframe tbody tr th:only-of-type {\n",
              "        vertical-align: middle;\n",
              "    }\n",
              "\n",
              "    .dataframe tbody tr th {\n",
              "        vertical-align: top;\n",
              "    }\n",
              "\n",
              "    .dataframe thead th {\n",
              "        text-align: right;\n",
              "    }\n",
              "</style>\n",
              "<table border=\"1\" class=\"dataframe\">\n",
              "  <thead>\n",
              "    <tr style=\"text-align: right;\">\n",
              "      <th></th>\n",
              "      <th>COD_HOGAR</th>\n",
              "      <th>UBIGEO</th>\n",
              "      <th>DE_DEPARTAMENTO</th>\n",
              "      <th>DE_PROVINCIA</th>\n",
              "      <th>DE_DISTRITO</th>\n",
              "      <th>PERSONAS_HOGAR</th>\n",
              "      <th>MONTO</th>\n",
              "      <th>TIPO_BONO</th>\n",
              "      <th>BONO_COBRADO</th>\n",
              "      <th>FECHA_COBRO</th>\n",
              "      <th>ENTIDAD_COBRO</th>\n",
              "      <th>MEDIO_COBRO</th>\n",
              "      <th>FECHA_ACTUALIZACION</th>\n",
              "    </tr>\n",
              "  </thead>\n",
              "  <tbody>\n",
              "    <tr>\n",
              "      <th>0</th>\n",
              "      <td>43</td>\n",
              "      <td>10205</td>\n",
              "      <td>AMAZONAS</td>\n",
              "      <td>BAGUA</td>\n",
              "      <td>IMAZA</td>\n",
              "      <td>2</td>\n",
              "      <td>760.0</td>\n",
              "      <td>BONO_INDEPENDIENTE</td>\n",
              "      <td>SI</td>\n",
              "      <td>2020-04-27T00:00:00Z</td>\n",
              "      <td>BANCO DE LA NACION</td>\n",
              "      <td>ABONO EN CUENTA</td>\n",
              "      <td>2020-06-20T00:00:00Z</td>\n",
              "    </tr>\n",
              "    <tr>\n",
              "      <th>1</th>\n",
              "      <td>76</td>\n",
              "      <td>10310</td>\n",
              "      <td>AMAZONAS</td>\n",
              "      <td>BONGARA</td>\n",
              "      <td>SHIPASBAMBA</td>\n",
              "      <td>1</td>\n",
              "      <td>760.0</td>\n",
              "      <td>BONO_INDEPENDIENTE</td>\n",
              "      <td>SI</td>\n",
              "      <td>2020-04-27T00:00:00Z</td>\n",
              "      <td>BANCO DE LA NACION</td>\n",
              "      <td>ABONO EN CUENTA</td>\n",
              "      <td>2020-06-20T00:00:00Z</td>\n",
              "    </tr>\n",
              "    <tr>\n",
              "      <th>2</th>\n",
              "      <td>166</td>\n",
              "      <td>60801</td>\n",
              "      <td>CAJAMARCA</td>\n",
              "      <td>JAEN</td>\n",
              "      <td>JAEN</td>\n",
              "      <td>1</td>\n",
              "      <td>760.0</td>\n",
              "      <td>BONO_INDEPENDIENTE</td>\n",
              "      <td>SI</td>\n",
              "      <td>2020-04-27T00:00:00Z</td>\n",
              "      <td>BANCO DE LA NACION</td>\n",
              "      <td>ABONO EN CUENTA</td>\n",
              "      <td>2020-06-20T00:00:00Z</td>\n",
              "    </tr>\n",
              "    <tr>\n",
              "      <th>3</th>\n",
              "      <td>174</td>\n",
              "      <td>10502</td>\n",
              "      <td>AMAZONAS</td>\n",
              "      <td>LUYA</td>\n",
              "      <td>CAMPORREDONDO</td>\n",
              "      <td>2</td>\n",
              "      <td>760.0</td>\n",
              "      <td>BONO_INDEPENDIENTE</td>\n",
              "      <td>SI</td>\n",
              "      <td>2020-04-29T00:00:00Z</td>\n",
              "      <td>BANCO DE LA NACION</td>\n",
              "      <td>BANCA CELULAR</td>\n",
              "      <td>2020-06-20T00:00:00Z</td>\n",
              "    </tr>\n",
              "    <tr>\n",
              "      <th>4</th>\n",
              "      <td>337</td>\n",
              "      <td>20301</td>\n",
              "      <td>ANCASH</td>\n",
              "      <td>ANTONIO RAYMONDI</td>\n",
              "      <td>LLAMELLIN</td>\n",
              "      <td>1</td>\n",
              "      <td>760.0</td>\n",
              "      <td>BONO_INDEPENDIENTE</td>\n",
              "      <td>NO</td>\n",
              "      <td>NaN</td>\n",
              "      <td>BANCO DE LA NACION</td>\n",
              "      <td>VENTANILLA</td>\n",
              "      <td>2020-06-20T00:00:00Z</td>\n",
              "    </tr>\n",
              "  </tbody>\n",
              "</table>\n",
              "</div>"
            ],
            "text/plain": [
              "   COD_HOGAR  UBIGEO  ...      MEDIO_COBRO   FECHA_ACTUALIZACION\n",
              "0         43   10205  ...  ABONO EN CUENTA  2020-06-20T00:00:00Z\n",
              "1         76   10310  ...  ABONO EN CUENTA  2020-06-20T00:00:00Z\n",
              "2        166   60801  ...  ABONO EN CUENTA  2020-06-20T00:00:00Z\n",
              "3        174   10502  ...    BANCA CELULAR  2020-06-20T00:00:00Z\n",
              "4        337   20301  ...       VENTANILLA  2020-06-20T00:00:00Z\n",
              "\n",
              "[5 rows x 13 columns]"
            ]
          },
          "metadata": {
            "tags": []
          },
          "execution_count": 6
        }
      ]
    },
    {
      "cell_type": "code",
      "metadata": {
        "colab": {
          "base_uri": "https://localhost:8080/"
        },
        "id": "io4cQODOzO1T",
        "outputId": "c5f92196-2c51-4386-a49e-bfe841f5aa31"
      },
      "source": [
        "bono_ind[\"COD_HOGAR\"].value_counts()"
      ],
      "execution_count": 7,
      "outputs": [
        {
          "output_type": "execute_result",
          "data": {
            "text/plain": [
              "8043590    1\n",
              "4007182    1\n",
              "4031770    1\n",
              "2989337    1\n",
              "890136     1\n",
              "          ..\n",
              "4115857    1\n",
              "5566923    1\n",
              "4520394    1\n",
              "3041530    1\n",
              "4194304    1\n",
              "Name: COD_HOGAR, Length: 773291, dtype: int64"
            ]
          },
          "metadata": {
            "tags": []
          },
          "execution_count": 7
        }
      ]
    },
    {
      "cell_type": "code",
      "metadata": {
        "colab": {
          "base_uri": "https://localhost:8080/"
        },
        "id": "Wyvsl3Z_zO4M",
        "outputId": "99219907-e556-4a56-dcc1-8f40c0fc8d8b"
      },
      "source": [
        "bono_ind[\"UBIGEO\"].value_counts()"
      ],
      "execution_count": 8,
      "outputs": [
        {
          "output_type": "execute_result",
          "data": {
            "text/plain": [
              "150132    21979\n",
              "150135    16982\n",
              "211101    14788\n",
              "150110    13550\n",
              "130101    12113\n",
              "          ...  \n",
              "210902        1\n",
              "100505        1\n",
              "10402         1\n",
              "61305         1\n",
              "90713         1\n",
              "Name: UBIGEO, Length: 1770, dtype: int64"
            ]
          },
          "metadata": {
            "tags": []
          },
          "execution_count": 8
        }
      ]
    },
    {
      "cell_type": "code",
      "metadata": {
        "colab": {
          "base_uri": "https://localhost:8080/"
        },
        "id": "rvWAKK2hzO64",
        "outputId": "1abe7360-753a-42d6-93f9-048d754b1fdd"
      },
      "source": [
        "bono_ind[\"DE_DEPARTAMENTO\"].value_counts()"
      ],
      "execution_count": 9,
      "outputs": [
        {
          "output_type": "execute_result",
          "data": {
            "text/plain": [
              "LIMA             240742\n",
              "AREQUIPA          80790\n",
              "LA LIBERTAD       49387\n",
              "JUNIN             40545\n",
              "PIURA             34534\n",
              "PUNO              34135\n",
              "LAMBAYEQUE        33072\n",
              "ANCASH            28198\n",
              "CUSCO             24323\n",
              "ICA               24305\n",
              "SAN MARTIN        23793\n",
              "CAJAMARCA         22930\n",
              "CALLAO            22343\n",
              "HUANUCO           18878\n",
              "TACNA             15986\n",
              "AYACUCHO          14880\n",
              "LORETO            12871\n",
              "UCAYALI            9471\n",
              "MADRE DE DIOS      7737\n",
              "PASCO              7695\n",
              "MOQUEGUA           6537\n",
              "TUMBES             5885\n",
              "AMAZONAS           5635\n",
              "APURIMAC           5167\n",
              "HUANCAVELICA       3452\n",
              "Name: DE_DEPARTAMENTO, dtype: int64"
            ]
          },
          "metadata": {
            "tags": []
          },
          "execution_count": 9
        }
      ]
    },
    {
      "cell_type": "code",
      "metadata": {
        "id": "Dens3738zO_z"
      },
      "source": [
        "Columnas_Clustering=[\"UBIGEO\",\"DE_DEPARTAMENTO\"\t,\"DE_PROVINCIA\",\t\"DE_DISTRITO\"\t,\"PERSONAS_HOGAR\",\t\"MONTO\"\t,\t\"BONO_COBRADO\"\t,\"MEDIO_COBRO\"]"
      ],
      "execution_count": 10,
      "outputs": []
    },
    {
      "cell_type": "code",
      "metadata": {
        "id": "AUSkE2SOzPB_"
      },
      "source": [
        "Columnas_Clustering=bono_ind[[\"UBIGEO\",\"DE_DEPARTAMENTO\",\"DE_PROVINCIA\",\"DE_DISTRITO\",\"PERSONAS_HOGAR\",\"MONTO\",\"BONO_COBRADO\",\"MEDIO_COBRO\"]]"
      ],
      "execution_count": 11,
      "outputs": []
    },
    {
      "cell_type": "code",
      "metadata": {
        "id": "r3GJqWNZzPEZ"
      },
      "source": [
        "Columnas_Clustering.to_csv(\"bono_Independiente_trabajaperu_procesado.csv\")"
      ],
      "execution_count": 12,
      "outputs": []
    },
    {
      "cell_type": "code",
      "metadata": {
        "id": "G0SvEiMNr2Hw"
      },
      "source": [
        ""
      ],
      "execution_count": null,
      "outputs": []
    }
  ]
}